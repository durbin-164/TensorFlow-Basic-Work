{
  "nbformat": 4,
  "nbformat_minor": 0,
  "metadata": {
    "colab": {
      "name": "Implementing Basic Neural network.ipynb",
      "version": "0.3.2",
      "provenance": [],
      "include_colab_link": true
    },
    "kernelspec": {
      "name": "python3",
      "display_name": "Python 3"
    },
    "accelerator": "GPU"
  },
  "cells": [
    {
      "cell_type": "markdown",
      "metadata": {
        "id": "view-in-github",
        "colab_type": "text"
      },
      "source": [
        "<a href=\"https://colab.research.google.com/github/durbin-164/TensorFlow-Basic-Work/blob/master/Implementing_Basic_Neural_network.ipynb\" target=\"_parent\"><img src=\"https://colab.research.google.com/assets/colab-badge.svg\" alt=\"Open In Colab\"/></a>"
      ]
    },
    {
      "cell_type": "code",
      "metadata": {
        "id": "XMzV1tRYhB3D",
        "colab_type": "code",
        "outputId": "77359dac-7b8f-40ae-831a-54c4510b8dc6",
        "colab": {
          "base_uri": "https://localhost:8080/",
          "height": 34
        }
      },
      "source": [
        "#!pip install tensorflow==2.0.0-beta1\n",
        "\n",
        "import tensorflow as tf\n",
        "import numpy as np\n",
        "import matplotlib.pyplot as plt\n",
        "import pandas as pd\n",
        "from sklearn import preprocessing\n",
        "print(tf.__version__)"
      ],
      "execution_count": 1,
      "outputs": [
        {
          "output_type": "stream",
          "text": [
            "2.0.0-beta1\n"
          ],
          "name": "stdout"
        }
      ]
    },
    {
      "cell_type": "code",
      "metadata": {
        "id": "ELYRoJHuhWER",
        "colab_type": "code",
        "colab": {}
      },
      "source": [
        "def sigmoid(z):\n",
        "  \n",
        "  return (1.0/(1.0+tf.exp(-z)))"
      ],
      "execution_count": 0,
      "outputs": []
    },
    {
      "cell_type": "code",
      "metadata": {
        "id": "Rx4Y2U7MiHwQ",
        "colab_type": "code",
        "outputId": "631c007e-e71a-44ce-fc28-6d2a98ff2ee8",
        "colab": {
          "base_uri": "https://localhost:8080/",
          "height": 84
        }
      },
      "source": [
        "z = tf.constant([[1],[2],[3]], dtype = tf.float32)\n",
        "print(sigmoid(z))"
      ],
      "execution_count": 3,
      "outputs": [
        {
          "output_type": "stream",
          "text": [
            "tf.Tensor(\n",
            "[[0.7310586 ]\n",
            " [0.880797  ]\n",
            " [0.95257413]], shape=(3, 1), dtype=float32)\n"
          ],
          "name": "stdout"
        }
      ]
    },
    {
      "cell_type": "code",
      "metadata": {
        "id": "PwA1As6_iTxX",
        "colab_type": "code",
        "colab": {}
      },
      "source": [
        "def initialize_parameters(n_x,n_h,n_y):\n",
        "  \n",
        "  W1 = tf.random.normal([n_x,n_h])\n",
        "  b1 = tf.zeros([1,n_h])\n",
        "  \n",
        "  W2 = tf.random.normal([n_h,n_y])\n",
        "  b2 = tf.zeros([1,n_y])\n",
        "  \n",
        "  parameters = {\n",
        "      \n",
        "      \"W1\" : W1,\n",
        "      \"b1\" : b1,\n",
        "      \"W2\" : W2,\n",
        "      \"b2\" : b2\n",
        "  }\n",
        "  \n",
        "  return parameters"
      ],
      "execution_count": 0,
      "outputs": []
    },
    {
      "cell_type": "code",
      "metadata": {
        "id": "UpjaDSEHm4Th",
        "colab_type": "code",
        "outputId": "b72172e0-aedf-4b1c-d080-c0d6f04c7855",
        "colab": {
          "base_uri": "https://localhost:8080/",
          "height": 67
        }
      },
      "source": [
        "parm = initialize_parameters(2,3,1)\n",
        "print(parm['W1'])\n"
      ],
      "execution_count": 16,
      "outputs": [
        {
          "output_type": "stream",
          "text": [
            "tf.Tensor(\n",
            "[[-2.065537   -0.6189449  -0.590096  ]\n",
            " [-0.6218776  -1.0372332   0.12964697]], shape=(2, 3), dtype=float32)\n"
          ],
          "name": "stdout"
        }
      ]
    },
    {
      "cell_type": "code",
      "metadata": {
        "id": "l4GTWz4PnDGF",
        "colab_type": "code",
        "colab": {}
      },
      "source": [
        "def forward_prop(X, parameters):\n",
        "  \n",
        "  W1 = parameters['W1']\n",
        "  b1 = parameters['b1']\n",
        "  W2 = parameters['W2']\n",
        "  b2 = parameters['b2']\n",
        "  \n",
        "  Z1 = tf.matmul(X,W1)+b1\n",
        "  \n",
        "  A1 = tf.tanh(Z1)\n",
        "  \n",
        "  Z2 = tf.matmul(A1, W2)+b2\n",
        "  \n",
        "  A2 = sigmoid(Z2)\n",
        "  \n",
        "  cache = {\n",
        "      \n",
        "      'A1' : A1,\n",
        "      'A2' : A2\n",
        "  }\n",
        "  \n",
        "  \n",
        "  return A2, cache\n",
        "  \n",
        "  "
      ],
      "execution_count": 0,
      "outputs": []
    },
    {
      "cell_type": "code",
      "metadata": {
        "id": "gsbhHmUQ1aQQ",
        "colab_type": "code",
        "colab": {}
      },
      "source": [
        "def calculate_cost(A2, y):\n",
        "  \n",
        "  cost = (-1.0/y.shape[0])*tf.reduce_sum(y*tf.math.log(A2)+(1-y)*tf.math.log(1-A2))\n",
        "  \n",
        "  return tf.squeeze(cost)"
      ],
      "execution_count": 0,
      "outputs": []
    },
    {
      "cell_type": "code",
      "metadata": {
        "id": "GF_n3t4R74N7",
        "colab_type": "code",
        "colab": {}
      },
      "source": [
        "def backward_prop(X,Y,parameters, cache):\n",
        "  \n",
        "  W1 = parameters['W1']\n",
        "  b1 = parameters['b1']\n",
        "  W2 = parameters['W2']\n",
        "  b2 = parameters['b2']\n",
        "  \n",
        "  A1 = cache['A1']\n",
        "  A2 = cache['A2']\n",
        "  \n",
        "  m = X.shape[0]\n",
        "  \n",
        "  dz2 = A2-Y\n",
        "  dw2 = (1.0/m)* tf.matmul(tf.transpose(A1),dz2)\n",
        "  db2 = (1.0/m)* tf.reduce_sum(dz2, axis=0, keepdims = True)\n",
        "  \n",
        "  dz1 = tf.matmul(dz2, tf.transpose(W2))*(1-tf.square(A1))\n",
        "  dw1 = (1.0/m)*tf.matmul(tf.transpose(X),dz1)\n",
        "  db1 = (1.0/m)*tf.reduce_sum(dz1, axis=0, keepdims = True)\n",
        "  \n",
        "  grads={\n",
        "      'dw1' : dw1,\n",
        "      'db1' : db1,\n",
        "      'dw2' : dw2,\n",
        "      'db2' : db2\n",
        "  }  \n",
        "  \n",
        "  return grads"
      ],
      "execution_count": 0,
      "outputs": []
    },
    {
      "cell_type": "code",
      "metadata": {
        "id": "3a09zFoczKfH",
        "colab_type": "code",
        "colab": {}
      },
      "source": [
        "def update_parameters(parameters, grads, learning_rate):\n",
        "  \n",
        "  W1 = parameters['W1']\n",
        "  b1 = parameters['b1']\n",
        "  W2 = parameters['W2']\n",
        "  b2 = parameters['b2']\n",
        "  \n",
        "  dw1 = grads['dw1']\n",
        "  db1 = grads['db1']\n",
        "  dw2 = grads['dw2']\n",
        "  db2 = grads['db2']\n",
        "  \n",
        "  W1 -= learning_rate*dw1\n",
        "  b1 -= learning_rate*db1\n",
        "  W2 -= learning_rate*dw2\n",
        "  b2 -= learning_rate*db2\n",
        "  \n",
        "  \n",
        "  new_parameters = {\n",
        "      \n",
        "      \"W1\" : W1,\n",
        "      \"b1\" : b1,\n",
        "      \"W2\" : W2,\n",
        "      \"b2\" : b2\n",
        "  }\n",
        "  \n",
        "  return new_parameters\n",
        "  \n",
        "  \n",
        "  "
      ],
      "execution_count": 0,
      "outputs": []
    },
    {
      "cell_type": "code",
      "metadata": {
        "id": "R0ncPKk_0MSW",
        "colab_type": "code",
        "colab": {}
      },
      "source": [
        "def model(X,Y, learning_rate,iteration):\n",
        "  \n",
        "  n_x = X.shape[1]\n",
        "  n_h = 3\n",
        "  n_y = Y.shape[1]\n",
        "  \n",
        "  parameters = initialize_parameters(n_x,n_h,n_y)\n",
        "  \n",
        "  all_cost=[]\n",
        "  \n",
        "  for i in range(iteration):\n",
        "    #print('______start FP_________')\n",
        "    A2,cache = forward_prop(X,parameters)\n",
        "    #print('______done FP________')      \n",
        "    cost = calculate_cost(A2,Y)\n",
        "    #print('____cost done___')\n",
        "    grads = backward_prop(X,Y,parameters, cache)\n",
        "    parameters = update_parameters(parameters, grads, learning_rate)\n",
        "    \n",
        "    all_cost.append(cost)\n",
        "    if(i%1000==0):\n",
        "      print('Iteration: {} :: Cost: {}'.format(i,cost))\n",
        "      \n",
        "  return parameters, all_cost"
      ],
      "execution_count": 0,
      "outputs": []
    },
    {
      "cell_type": "code",
      "metadata": {
        "id": "JmWMRpv-1hiA",
        "colab_type": "code",
        "colab": {}
      },
      "source": [
        "def predict(X,parameters):\n",
        "  \n",
        "  A ,cache= forward_prop(X,parameters)\n",
        "  #print('____done___')\n",
        "  predict = A>=0.5\n",
        "  \n",
        "  return tf.cast(predict,dtype = tf.float32)\n",
        "  "
      ],
      "execution_count": 0,
      "outputs": []
    },
    {
      "cell_type": "code",
      "metadata": {
        "id": "hIUdvyd51kP-",
        "colab_type": "code",
        "colab": {}
      },
      "source": [
        "def get_accuracy(Y,Y_pred):\n",
        "  \n",
        "  accuracy = np.sum(tf.equal(Y,Y_pred))\n",
        "  \n",
        "  accuracy = (100.0/Y.shape[0])*accuracy\n",
        "  \n",
        "  return accuracy"
      ],
      "execution_count": 0,
      "outputs": []
    },
    {
      "cell_type": "code",
      "metadata": {
        "id": "Q9LTM0b01mY8",
        "colab_type": "code",
        "colab": {}
      },
      "source": [
        "def makeDataset():\n",
        "  \n",
        "  df = pd.read_csv('/content/drive/My Drive/Colab Notebooks/Dataset/Admission_Predict_Ver1.1.csv')\n",
        "  \n",
        "  df.dropna()\n",
        "  \n",
        "  df2 = df.copy()\n",
        "  df2.drop(df.columns[0], axis=1, inplace=True)\n",
        "  \n",
        "  data = df.values \n",
        "  min_max_scaler = preprocessing.MinMaxScaler()\n",
        "  data = min_max_scaler.fit_transform(data)\n",
        " \n",
        "  \n",
        "  np.random.shuffle(data)\n",
        "  \n",
        "  data[:,-1] = data[:,-1]>=.6\n",
        "  \n",
        "  X = data[:,:-2]\n",
        "  Y = data[:,-1]\n",
        "  X= tf.cast(X,dtype=tf.float32)\n",
        "  Y = tf.reshape(Y, [Y.shape[0],1])\n",
        "  Y = tf.cast(Y, dtype=tf.float32)\n",
        "  \n",
        "  pk = int(0.9*X.shape[0])\n",
        "  \n",
        "  X_train = X[:pk,:]\n",
        "  Y_train = Y[:pk,:]\n",
        "  \n",
        "  X_test = X[pk:,:]\n",
        "  Y_test = Y[pk:,:]\n",
        "  \n",
        "  return X_train, Y_train, X_test, Y_test\n",
        "  "
      ],
      "execution_count": 0,
      "outputs": []
    },
    {
      "cell_type": "code",
      "metadata": {
        "id": "njuFpqKQ1oiK",
        "colab_type": "code",
        "colab": {
          "base_uri": "https://localhost:8080/",
          "height": 521
        },
        "outputId": "0d5e68b4-7d43-47b1-b229-863a0de26be4"
      },
      "source": [
        "X_train, Y_train, X_test, Y_test = makeDataset()\n",
        "n_x = X_train.shape[1]\n",
        "n_y =Y_train.shape[1]\n",
        "  \n",
        "num_of_iteration = 30000\n",
        "learning_rate = 0.05\n",
        "  \n",
        "train_parameters, all_cost = model(X_train,Y_train, learning_rate, num_of_iteration)\n",
        "\n"
      ],
      "execution_count": 47,
      "outputs": [
        {
          "output_type": "stream",
          "text": [
            "Iteration: 0 :: Cost: 0.6874687671661377\n",
            "Iteration: 1000 :: Cost: 0.40042585134506226\n",
            "Iteration: 2000 :: Cost: 0.29591673612594604\n",
            "Iteration: 3000 :: Cost: 0.2806439995765686\n",
            "Iteration: 4000 :: Cost: 0.2775135636329651\n",
            "Iteration: 5000 :: Cost: 0.27607226371765137\n",
            "Iteration: 6000 :: Cost: 0.27512291073799133\n",
            "Iteration: 7000 :: Cost: 0.27433863282203674\n",
            "Iteration: 8000 :: Cost: 0.27358707785606384\n",
            "Iteration: 9000 :: Cost: 0.27279987931251526\n",
            "Iteration: 10000 :: Cost: 0.2719276249408722\n",
            "Iteration: 11000 :: Cost: 0.2709243893623352\n",
            "Iteration: 12000 :: Cost: 0.26974835991859436\n",
            "Iteration: 13000 :: Cost: 0.26837363839149475\n",
            "Iteration: 14000 :: Cost: 0.2668091356754303\n",
            "Iteration: 15000 :: Cost: 0.26511350274086\n",
            "Iteration: 16000 :: Cost: 0.2633897066116333\n",
            "Iteration: 17000 :: Cost: 0.26175373792648315\n",
            "Iteration: 18000 :: Cost: 0.26029422879219055\n",
            "Iteration: 19000 :: Cost: 0.25905027985572815\n",
            "Iteration: 20000 :: Cost: 0.2580167055130005\n",
            "Iteration: 21000 :: Cost: 0.2571648955345154\n",
            "Iteration: 22000 :: Cost: 0.25646114349365234\n",
            "Iteration: 23000 :: Cost: 0.2558755576610565\n",
            "Iteration: 24000 :: Cost: 0.25538474321365356\n",
            "Iteration: 25000 :: Cost: 0.2549702227115631\n",
            "Iteration: 26000 :: Cost: 0.2546178996562958\n",
            "Iteration: 27000 :: Cost: 0.254316508769989\n",
            "Iteration: 28000 :: Cost: 0.25405701994895935\n",
            "Iteration: 29000 :: Cost: 0.25383231043815613\n"
          ],
          "name": "stdout"
        }
      ]
    },
    {
      "cell_type": "code",
      "metadata": {
        "id": "Hg3SOSMo1sHN",
        "colab_type": "code",
        "colab": {
          "base_uri": "https://localhost:8080/",
          "height": 67
        },
        "outputId": "29f86cf9-50e1-40d5-c339-6d1d8c32c5eb"
      },
      "source": [
        "#print(train_parameters['b1'].shape)\n",
        "Y_pred = predict(X_train, train_parameters)\n",
        "print('Train Accuracy: {}'.format(get_accuracy(Y_train,Y_pred)))\n",
        "\n",
        "Y_pred = predict(X_test, train_parameters)\n",
        "print('Test Accuracy : {}'.format(get_accuracy(Y_test,Y_pred)))\n",
        "\n"
      ],
      "execution_count": 48,
      "outputs": [
        {
          "output_type": "stream",
          "text": [
            "(1, 3)\n",
            "Train Accuracy: 88.22222222222221\n",
            "Test Accuracy : 84.0\n"
          ],
          "name": "stdout"
        }
      ]
    },
    {
      "cell_type": "code",
      "metadata": {
        "id": "uZKbjb9f12Oy",
        "colab_type": "code",
        "colab": {}
      },
      "source": [
        ""
      ],
      "execution_count": 0,
      "outputs": []
    }
  ]
}