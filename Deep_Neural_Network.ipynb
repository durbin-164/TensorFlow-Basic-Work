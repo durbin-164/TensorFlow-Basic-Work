{
  "nbformat": 4,
  "nbformat_minor": 0,
  "metadata": {
    "colab": {
      "name": "Deep Neural Network.ipynb",
      "version": "0.3.2",
      "provenance": [],
      "collapsed_sections": [],
      "include_colab_link": true
    },
    "kernelspec": {
      "name": "python3",
      "display_name": "Python 3"
    },
    "accelerator": "GPU"
  },
  "cells": [
    {
      "cell_type": "markdown",
      "metadata": {
        "id": "view-in-github",
        "colab_type": "text"
      },
      "source": [
        "<a href=\"https://colab.research.google.com/github/durbin-164/TensorFlow-Basic-Work/blob/master/Deep_Neural_Network.ipynb\" target=\"_parent\"><img src=\"https://colab.research.google.com/assets/colab-badge.svg\" alt=\"Open In Colab\"/></a>"
      ]
    },
    {
      "cell_type": "markdown",
      "metadata": {
        "id": "IoFbaaxBm6Fp",
        "colab_type": "text"
      },
      "source": [
        "Took help from.. \n",
        "\n",
        "https://towardsdatascience.com/deep-neural-networks-from-scratch-in-python-451f07999373"
      ]
    },
    {
      "cell_type": "code",
      "metadata": {
        "id": "jd-PhbeXaZsr",
        "colab_type": "code",
        "colab": {
          "base_uri": "https://localhost:8080/",
          "height": 34
        },
        "outputId": "72d40dc7-f508-4696-faf7-5a8f96cca0aa"
      },
      "source": [
        "#!pip install tensorflow==2.0.0-beta1\n",
        "import tensorflow as tf\n",
        "import numpy as np\n",
        "import matplotlib.pyplot as plt\n",
        "import pandas as pd\n",
        "from sklearn import preprocessing\n",
        "\n",
        "print(tf.__version__)"
      ],
      "execution_count": 1,
      "outputs": [
        {
          "output_type": "stream",
          "text": [
            "2.0.0-beta1\n"
          ],
          "name": "stdout"
        }
      ]
    },
    {
      "cell_type": "code",
      "metadata": {
        "id": "eAxJrl1YUgDO",
        "colab_type": "code",
        "colab": {}
      },
      "source": [
        "def sigmoid(Z):\n",
        "  \n",
        "  return 1.0/(1+tf.exp(-Z))"
      ],
      "execution_count": 0,
      "outputs": []
    },
    {
      "cell_type": "code",
      "metadata": {
        "id": "rxfwukbMU_Me",
        "colab_type": "code",
        "colab": {
          "base_uri": "https://localhost:8080/",
          "height": 84
        },
        "outputId": "651ad6f5-3138-4243-9243-d3e423b35392"
      },
      "source": [
        "Z = tf.constant([[1],[2],[3]], dtype=tf.float32)\n",
        "print(sigmoid(Z))"
      ],
      "execution_count": 3,
      "outputs": [
        {
          "output_type": "stream",
          "text": [
            "tf.Tensor(\n",
            "[[0.26894143]\n",
            " [0.11920292]\n",
            " [0.04742587]], shape=(3, 1), dtype=float32)\n"
          ],
          "name": "stdout"
        }
      ]
    },
    {
      "cell_type": "code",
      "metadata": {
        "id": "ymn1gHGIVNiG",
        "colab_type": "code",
        "colab": {}
      },
      "source": [
        "def relu(Z):\n",
        "  \n",
        "  return tf.maximum(0,Z)"
      ],
      "execution_count": 0,
      "outputs": []
    },
    {
      "cell_type": "code",
      "metadata": {
        "id": "8DWryI8NVpuV",
        "colab_type": "code",
        "colab": {
          "base_uri": "https://localhost:8080/",
          "height": 84
        },
        "outputId": "163f99d9-413f-4427-cb75-c1fbeb913f69"
      },
      "source": [
        "Z2 = tf.constant([[1],[-2],[3]], dtype=tf.float32)\n",
        "print(relu(Z2))"
      ],
      "execution_count": 7,
      "outputs": [
        {
          "output_type": "stream",
          "text": [
            "tf.Tensor(\n",
            "[[1.]\n",
            " [0.]\n",
            " [3.]], shape=(3, 1), dtype=float32)\n"
          ],
          "name": "stdout"
        }
      ]
    },
    {
      "cell_type": "code",
      "metadata": {
        "id": "Yjok6N7zVxyg",
        "colab_type": "code",
        "colab": {}
      },
      "source": [
        "def sigmoid_backward(Z):\n",
        "  A = sigmoid(Z)\n",
        "  return A*(1.0-A)"
      ],
      "execution_count": 0,
      "outputs": []
    },
    {
      "cell_type": "code",
      "metadata": {
        "id": "E0UN_BqfWpGa",
        "colab_type": "code",
        "colab": {
          "base_uri": "https://localhost:8080/",
          "height": 84
        },
        "outputId": "d4e75a69-523e-4171-ca64-2eb636d13549"
      },
      "source": [
        "print(sigmoid_backward(sigmoid(Z)))"
      ],
      "execution_count": 10,
      "outputs": [
        {
          "output_type": "stream",
          "text": [
            "tf.Tensor(\n",
            "[[0.19661194]\n",
            " [0.10499358]\n",
            " [0.04517666]], shape=(3, 1), dtype=float32)\n"
          ],
          "name": "stdout"
        }
      ]
    },
    {
      "cell_type": "code",
      "metadata": {
        "id": "wNf8LbzTCEi_",
        "colab_type": "code",
        "colab": {}
      },
      "source": [
        "def relu_backward(Z):\n",
        "  dg = tf.zeros(Z.shape, dtype = tf.float32)\n",
        "  dg = Z>0.0\n",
        "  \n",
        "  return tf.cast(dg,dtype=tf.float32)"
      ],
      "execution_count": 0,
      "outputs": []
    },
    {
      "cell_type": "code",
      "metadata": {
        "id": "iqy7yzKxWu-v",
        "colab_type": "code",
        "colab": {}
      },
      "source": [
        "nn_architecture = [\n",
        "    {'layer_size' : 4, 'activation' : 'none'},\n",
        "    {'layer_size' : 5, 'activation' : 'relu'},\n",
        "    {'layer_size' : 4, 'activation' : 'relu'},\n",
        "    {'layer_size' : 3, 'activation' : 'relu'},\n",
        "    {'layer_size' : 1, 'activation' : 'sigmoid'},\n",
        "\n",
        "    \n",
        "]"
      ],
      "execution_count": 0,
      "outputs": []
    },
    {
      "cell_type": "code",
      "metadata": {
        "id": "45VJZ1NuYqnT",
        "colab_type": "code",
        "colab": {}
      },
      "source": [
        "def initialize_parameters(nn_architecture):\n",
        "  \n",
        "  number_of_layers = len(nn_architecture)\n",
        "  \n",
        "  parameters = {}\n",
        "  \n",
        "  for l in range(1,number_of_layers):\n",
        "    \n",
        "    parameters['W'+str(l)] = tf.random.normal(\n",
        "        [nn_architecture[l]['layer_size'],\n",
        "         nn_architecture[l-1]['layer_size']]\n",
        "    )\n",
        "    \n",
        "    parameters['b'+str(l)] = tf.zeros([nn_architecture[l]['layer_size'],1], dtype =tf.float32)\n",
        "    \n",
        "  \n",
        "  return parameters"
      ],
      "execution_count": 0,
      "outputs": []
    },
    {
      "cell_type": "code",
      "metadata": {
        "id": "drZSB-uCbok4",
        "colab_type": "code",
        "colab": {
          "base_uri": "https://localhost:8080/",
          "height": 218
        },
        "outputId": "98e3f0d1-021a-47f8-a406-b95127d1b9f3"
      },
      "source": [
        "parameters = initialize_parameters(nn_architecture)\n",
        "\n",
        "print(parameters['W1'])\n",
        "print(parameters['b1'])"
      ],
      "execution_count": 21,
      "outputs": [
        {
          "output_type": "stream",
          "text": [
            "tf.Tensor(\n",
            "[[ 1.6818744   1.3862405  -2.3580387   0.02944736]\n",
            " [ 0.16204597  1.471661    1.4894778   0.3451424 ]\n",
            " [ 1.1557723  -0.1873511   0.21727794  0.97656727]\n",
            " [-0.51883686  1.9910381  -1.7266572   1.6955078 ]\n",
            " [-0.6553803  -1.2042028   0.74510664  0.15847689]], shape=(5, 4), dtype=float32)\n",
            "tf.Tensor(\n",
            "[[0.]\n",
            " [0.]\n",
            " [0.]\n",
            " [0.]\n",
            " [0.]], shape=(5, 1), dtype=float32)\n"
          ],
          "name": "stdout"
        }
      ]
    },
    {
      "cell_type": "code",
      "metadata": {
        "id": "O0hPCS_SbymV",
        "colab_type": "code",
        "colab": {}
      },
      "source": [
        "def linear_forward(A,W,b):\n",
        "  #print(W.shape,A.shape)\n",
        "  return tf.matmul(W,A)+b"
      ],
      "execution_count": 0,
      "outputs": []
    },
    {
      "cell_type": "code",
      "metadata": {
        "id": "xkyaGIi7dkk-",
        "colab_type": "code",
        "colab": {}
      },
      "source": [
        "def linear_activation_forward(A_prev,W,b,activation):\n",
        "  \n",
        "  Z = linear_forward(A_prev, W,b)\n",
        "  if activation == 'sigmoid':\n",
        "    A = sigmoid(Z)\n",
        "  elif activation == 'relu':\n",
        "    A = relu(Z)\n",
        "  return Z,A\n",
        "    \n",
        "  "
      ],
      "execution_count": 0,
      "outputs": []
    },
    {
      "cell_type": "code",
      "metadata": {
        "id": "pw7XNFU8ec0L",
        "colab_type": "code",
        "colab": {}
      },
      "source": [
        "def forward_prop(X,parameters,nn_architecture):\n",
        "  \n",
        "  forward_cache = {}\n",
        "  forward_cache['A0'] = X\n",
        "  \n",
        "  number_of_layers = len(nn_architecture)\n",
        "  \n",
        "  A = X\n",
        "  \n",
        "  for l in range(1,number_of_layers):\n",
        "    A_prev = A\n",
        "    \n",
        "    activation = nn_architecture[l]['activation']\n",
        "    W = parameters['W'+str(l)]\n",
        "    b = parameters['b'+str(l)]\n",
        "    \n",
        "    Z,A = linear_activation_forward(A_prev,W,b,activation)\n",
        "    \n",
        "    forward_cache['Z'+str(l)] = Z\n",
        "    forward_cache['A'+str(l)] =A\n",
        "    \n",
        "  \n",
        "  AL = A #last layer output for cost function\n",
        "  \n",
        "  return AL,forward_cache\n",
        "\n",
        "    "
      ],
      "execution_count": 0,
      "outputs": []
    },
    {
      "cell_type": "code",
      "metadata": {
        "id": "_PJVwc8KDjVo",
        "colab_type": "code",
        "colab": {
          "base_uri": "https://localhost:8080/",
          "height": 34
        },
        "outputId": "f095215b-9bb5-4a1d-f3cf-3d76f4b16f04"
      },
      "source": [
        "X = tf.constant([[1,2,3,4],[5,6,7,8],[10,11,12,13],[14,15,16,17]], dtype=tf.float32)\n",
        "print(X.shape)\n",
        "AL,forward_cache = forward_prop(X,parameters, nn_architecture)"
      ],
      "execution_count": 88,
      "outputs": [
        {
          "output_type": "stream",
          "text": [
            "(4, 4)\n"
          ],
          "name": "stdout"
        }
      ]
    },
    {
      "cell_type": "code",
      "metadata": {
        "id": "8DnJvi93gD4e",
        "colab_type": "code",
        "colab": {}
      },
      "source": [
        "def compute_cost(AL,Y):\n",
        "  \n",
        "  cost = -(1.0/Y.shape[1])*tf.reduce_sum(Y*tf.math.log(AL)+(1-Y)*tf.math.log(1-AL))\n",
        "  \n",
        "  return tf.squeeze(cost)"
      ],
      "execution_count": 0,
      "outputs": []
    },
    {
      "cell_type": "code",
      "metadata": {
        "id": "kcwRQsnIG_F3",
        "colab_type": "code",
        "colab": {}
      },
      "source": [
        "def linear_backward(dZ,A_prev,W):\n",
        "  \n",
        "  m = A_prev.shape[1]\n",
        "  \n",
        "  dW =(1.0/m)*tf.matmul(dZ,tf.transpose(A_prev))\n",
        "  db = (1.0/m)*tf.reduce_sum(dZ,axis=1, keepdims = True)\n",
        "  \n",
        "  dA_prev = tf.matmul(tf.transpose(W), dZ)\n",
        "  \n",
        "  return dW,db, dA_prev"
      ],
      "execution_count": 0,
      "outputs": []
    },
    {
      "cell_type": "code",
      "metadata": {
        "id": "5RrCwTSlIrEO",
        "colab_type": "code",
        "colab": {}
      },
      "source": [
        "def linear_activation_backward(dA, Z, A_prev,W, activation):\n",
        "  \n",
        "  if activation == 'relu':\n",
        "    dZ = dA*relu_backward(Z)\n",
        "  elif activation == 'sigmoid':\n",
        "    dZ = dA*sigmoid_backward(Z)\n",
        "  \n",
        "  dW,db,dA_prev = linear_backward(dZ,A_prev,W)\n",
        "  \n",
        "  return dW,db,dA_prev"
      ],
      "execution_count": 0,
      "outputs": []
    },
    {
      "cell_type": "code",
      "metadata": {
        "id": "f1qi_t0Xg6T_",
        "colab_type": "code",
        "colab": {}
      },
      "source": [
        "def backward_prop(AL,Y,parameters,forward_cache,nn_architecture):\n",
        "  \n",
        "  grads = {}\n",
        "  \n",
        "  number_of_layers = len(nn_architecture)\n",
        "  \n",
        "  Y = tf.reshape(Y, AL.shape)\n",
        "  \n",
        "  dAL = -tf.divide(Y,AL)+tf.divide((1.0-Y),(1.0-AL))\n",
        "  \n",
        "  dA_prev = dAL\n",
        "  \n",
        "  for l in reversed(range(1,number_of_layers)):\n",
        "    \n",
        "    dA_curr = dA_prev\n",
        "    W_curr = parameters['W'+str(l)]\n",
        "    Z_curr = forward_cache['Z'+str(l)]\n",
        "    A_curr = forward_cache['A'+str(l)]\n",
        "    A_prev = forward_cache['A'+str(l-1)]\n",
        "    activation = nn_architecture[l]['activation']\n",
        "    \n",
        "\n",
        "    dW,db,dA_prev = linear_activation_backward(dA_curr,Z_curr,A_prev,W_curr,activation)\n",
        "    \n",
        "    grads['dW'+str(l)] = dW\n",
        "    grads['db'+str(l)] = db\n",
        "      \n",
        "  return grads"
      ],
      "execution_count": 0,
      "outputs": []
    },
    {
      "cell_type": "code",
      "metadata": {
        "id": "KWG6cUScLuih",
        "colab_type": "code",
        "colab": {}
      },
      "source": [
        "Y = tf.constant([[1,1,0,0]],dtype=tf.float32)\n",
        "grads = backward_prop(AL,Y,parameters,forward_cache, nn_architecture)"
      ],
      "execution_count": 0,
      "outputs": []
    },
    {
      "cell_type": "code",
      "metadata": {
        "id": "Zq9dxjrwP6XW",
        "colab_type": "code",
        "colab": {}
      },
      "source": [
        "def update_parameters(parameters,grads,learning_rate):\n",
        "  \n",
        "  number_of_parameters =int(len(parameters)/2)\n",
        "  \n",
        "  \n",
        "  for l in range(1,number_of_parameters):\n",
        "    \n",
        "    parameters['W'+str(l)] -= learning_rate*grads['dW'+str(l)]\n",
        "    parameters['b'+str(l)] -= learning_rate*grads['db'+str(l)]\n",
        "    \n",
        "  return parameters"
      ],
      "execution_count": 0,
      "outputs": []
    },
    {
      "cell_type": "code",
      "metadata": {
        "id": "OghHZWfwSxUx",
        "colab_type": "code",
        "colab": {
          "base_uri": "https://localhost:8080/",
          "height": 34
        },
        "outputId": "b43cc411-2ed3-4197-9d6f-edc6de7c4a5e"
      },
      "source": [
        "parameters = update_parameters(parameters,grads, learning_rate=0.01)"
      ],
      "execution_count": 98,
      "outputs": [
        {
          "output_type": "stream",
          "text": [
            "4\n"
          ],
          "name": "stdout"
        }
      ]
    },
    {
      "cell_type": "code",
      "metadata": {
        "id": "WIMYa-yoS8yw",
        "colab_type": "code",
        "colab": {}
      },
      "source": [
        "def model(X,Y,nn_architecture,learning_rate, iteration):\n",
        "  \n",
        "  all_cost =[]\n",
        "  parameters = initialize_parameters(nn_architecture)\n",
        "  \n",
        "  for i in range(iteration):\n",
        "    \n",
        "    AL, forward_cache = forward_prop(X, parameters, nn_architecture)\n",
        "    \n",
        "    cost = compute_cost(AL,Y)\n",
        "    all_cost.append(cost)\n",
        "    \n",
        "    grads = backward_prop(AL,Y,parameters, forward_cache, nn_architecture)\n",
        "    \n",
        "    parameters = update_parameters(parameters,grads,learning_rate)\n",
        "    \n",
        "    if(i%1000)==0:\n",
        "      print('Itertaion : {} :: Cost : {}'.format(i,cost))\n",
        "      \n",
        "   \n",
        "  return parameters, all_cost\n",
        "      "
      ],
      "execution_count": 0,
      "outputs": []
    },
    {
      "cell_type": "code",
      "metadata": {
        "id": "kj1iYybFliSN",
        "colab_type": "code",
        "colab": {}
      },
      "source": [
        "def predict(X,parameters,nn_architecture):\n",
        "  \n",
        "  A ,cache= forward_prop(X,parameters,nn_architecture)\n",
        "  #print('____done___')\n",
        "  predict = A>=0.5\n",
        "  \n",
        "  return tf.cast(predict,dtype = tf.float32)\n",
        "  "
      ],
      "execution_count": 0,
      "outputs": []
    },
    {
      "cell_type": "code",
      "metadata": {
        "id": "7nKM42xTlZzM",
        "colab_type": "code",
        "colab": {}
      },
      "source": [
        "def get_accuracy(Y,Y_pred):\n",
        "  \n",
        "  accuracy = np.sum(tf.equal(Y,Y_pred))\n",
        "  \n",
        "  accuracy = (100.0/Y.shape[1])*accuracy\n",
        "  \n",
        "  return accuracy"
      ],
      "execution_count": 0,
      "outputs": []
    },
    {
      "cell_type": "code",
      "metadata": {
        "id": "oKCTZi0zVpSW",
        "colab_type": "code",
        "colab": {}
      },
      "source": [
        "def make_dataset():\n",
        "  \n",
        "  df = pd.read_csv('/content/drive/My Drive/Colab Notebooks/Dataset/Admission_Predict_Ver1.1.csv')\n",
        "  \n",
        "  df.dropna()\n",
        "  \n",
        "  df2 = df.copy()\n",
        "  df2.drop(df.columns[0], axis=1, inplace=True)\n",
        "  \n",
        "  data = df.values \n",
        "  min_max_scaler = preprocessing.MinMaxScaler()\n",
        "  data = min_max_scaler.fit_transform(data)\n",
        " \n",
        "  \n",
        "  np.random.shuffle(data)\n",
        "  \n",
        "  data[:,-1] = data[:,-1]>=.6\n",
        "  \n",
        "  X = data[:,:-2]\n",
        "  Y = data[:,-1]\n",
        "  X= tf.cast(X,dtype=tf.float32)\n",
        "  Y = tf.reshape(Y, [Y.shape[0],1])\n",
        "  Y = tf.cast(Y, dtype=tf.float32)\n",
        "  \n",
        "  \n",
        "  \n",
        "  pk = int(0.9*X.shape[0])\n",
        "  \n",
        "  X_train = X[:pk,:]\n",
        "  Y_train = Y[:pk,:]\n",
        "  \n",
        "  X_test = X[pk:,:]\n",
        "  Y_test = Y[pk:,:]\n",
        "  \n",
        "  return tf.transpose(X_train), tf.transpose(Y_train), tf.transpose(X_test), tf.transpose(Y_test)\n",
        "  "
      ],
      "execution_count": 0,
      "outputs": []
    },
    {
      "cell_type": "code",
      "metadata": {
        "id": "9uJbW2_UYnbp",
        "colab_type": "code",
        "colab": {
          "base_uri": "https://localhost:8080/",
          "height": 118
        },
        "outputId": "8de7cfed-2174-44ab-d496-a2fd2f8c275c"
      },
      "source": [
        "X_train,Y_train, X_test, Y_test = make_dataset()\n",
        "\n",
        "print(X_train.shape)\n",
        "print(Y_train.shape)\n",
        "print(X_test.shape)\n",
        "print(Y_test.shape)\n",
        "print(np.sum(np.array(Y_train)==0.0))\n",
        "print(np.sum(np.array(Y_train)==1.0))\n",
        "\n"
      ],
      "execution_count": 65,
      "outputs": [
        {
          "output_type": "stream",
          "text": [
            "(7, 450)\n",
            "(1, 450)\n",
            "(7, 50)\n",
            "(1, 50)\n",
            "213\n",
            "237\n"
          ],
          "name": "stdout"
        }
      ]
    },
    {
      "cell_type": "code",
      "metadata": {
        "id": "G6xkZXs-Y8uz",
        "colab_type": "code",
        "colab": {
          "base_uri": "https://localhost:8080/",
          "height": 185
        },
        "outputId": "52acdcda-23ac-4ad1-d420-9250aacfe4b1"
      },
      "source": [
        "learning_rate = 0.2\n",
        "iteration=10000\n",
        "\n",
        "nn_architecture = [\n",
        "    {'layer_size' : X_train.shape[0], 'activation' : 'none'},\n",
        "    {'layer_size' : 5, 'activation' : 'relu'},\n",
        "    {'layer_size' : 4, 'activation' : 'relu'},\n",
        "    {'layer_size' : 3, 'activation' : 'relu'},\n",
        "    {'layer_size' : 1, 'activation' : 'sigmoid'}, \n",
        "]\n",
        "parameters, all_cost = model(X_train,Y_train,nn_architecture, learning_rate,iteration)\n"
      ],
      "execution_count": 86,
      "outputs": [
        {
          "output_type": "stream",
          "text": [
            "Itertaion : 0 :: Cost : 3.492647647857666\n",
            "Itertaion : 1000 :: Cost : 0.28662392497062683\n",
            "Itertaion : 2000 :: Cost : 0.27198681235313416\n",
            "Itertaion : 3000 :: Cost : 0.25056278705596924\n",
            "Itertaion : 4000 :: Cost : 0.24064898490905762\n",
            "Itertaion : 5000 :: Cost : 0.24034976959228516\n",
            "Itertaion : 6000 :: Cost : 0.24009302258491516\n",
            "Itertaion : 7000 :: Cost : 0.24000594019889832\n",
            "Itertaion : 8000 :: Cost : 0.2399444878101349\n",
            "Itertaion : 9000 :: Cost : 0.23985151946544647\n"
          ],
          "name": "stdout"
        }
      ]
    },
    {
      "cell_type": "code",
      "metadata": {
        "id": "AyWsTas3aOPb",
        "colab_type": "code",
        "colab": {
          "base_uri": "https://localhost:8080/",
          "height": 295
        },
        "outputId": "f3c2e645-f805-4751-d6b7-20eab7054197"
      },
      "source": [
        "plt.plot(np.squeeze(all_cost))\n",
        "plt.ylabel('cost')\n",
        "plt.xlabel('iterations (per tens)')\n",
        "plt.title(\"Learning rate =\" + str(learning_rate))\n",
        "plt.show()"
      ],
      "execution_count": 87,
      "outputs": [
        {
          "output_type": "display_data",
          "data": {
            "image/png": "[encoded data removed]",
            "text/plain": [
              "<Figure size 432x288 with 1 Axes>"
            ]
          },
          "metadata": {
            "tags": []
          }
        }
      ]
    },
    {
      "cell_type": "code",
      "metadata": {
        "id": "cP0FK8O0lp8Q",
        "colab_type": "code",
        "colab": {
          "base_uri": "https://localhost:8080/",
          "height": 50
        },
        "outputId": "a6802d9a-d7d7-4d0b-d3c9-187866b7b853"
      },
      "source": [
        "#print(train_parameters['b1'].shape)\n",
        "Y_pred = predict(X_train, parameters,nn_architecture)\n",
        "print('Train Accuracy: {}'.format(get_accuracy(Y_train,Y_pred)))\n",
        "\n",
        "Y_pred = predict(X_test, parameters,nn_architecture)\n",
        "print('Test Accuracy : {}'.format(get_accuracy(Y_test,Y_pred)))\n",
        "\n"
      ],
      "execution_count": 88,
      "outputs": [
        {
          "output_type": "stream",
          "text": [
            "Train Accuracy: 88.44444444444444\n",
            "Test Accuracy : 78.0\n"
          ],
          "name": "stdout"
        }
      ]
    },
    {
      "cell_type": "code",
      "metadata": {
        "id": "pchUjPEKU4Fd",
        "colab_type": "code",
        "colab": {
          "base_uri": "https://localhost:8080/",
          "height": 218
        },
        "outputId": "c9555738-e085-4ca6-f0f4-d55ccfe726b8"
      },
      "source": [
        "learning_rate = 0.00001\n",
        "iteration=1000\n",
        "X = tf.constant([[0,0,1,1],[0,1,0,1]], dtype=tf.float32)\n",
        "Y = tf.constant([[0,1,1,0]],dtype=tf.float32)\n",
        "nn_architecture = [\n",
        "    {'layer_size' : X.shape[0], 'activation' : 'none'},\n",
        "    {'layer_size' : 5, 'activation' : 'relu'},\n",
        "    {'layer_size' : 4, 'activation' : 'relu'},\n",
        "    {'layer_size' : 3, 'activation' : 'relu'},\n",
        "    {'layer_size' : 1, 'activation' : 'sigmoid'}, \n",
        "]\n",
        "\n",
        "print(X.shape)\n",
        "print(Y.shape)\n",
        "parameters, all_cost = model(X,Y,nn_architecture, learning_rate,iteration)"
      ],
      "execution_count": 139,
      "outputs": [
        {
          "output_type": "stream",
          "text": [
            "(2, 4)\n",
            "(1, 4)\n",
            "Itertaion : 0 :: Cost : 0.6584997773170471\n",
            "Itertaion : 100 :: Cost : 0.6583309173583984\n",
            "Itertaion : 200 :: Cost : 0.6581624150276184\n",
            "Itertaion : 300 :: Cost : 0.6579940319061279\n",
            "Itertaion : 400 :: Cost : 0.6578258872032166\n",
            "Itertaion : 500 :: Cost : 0.6576576828956604\n",
            "Itertaion : 600 :: Cost : 0.6574901342391968\n",
            "Itertaion : 700 :: Cost : 0.6573235988616943\n",
            "Itertaion : 800 :: Cost : 0.6571574211120605\n",
            "Itertaion : 900 :: Cost : 0.6569912433624268\n"
          ],
          "name": "stdout"
        }
      ]
    },
    {
      "cell_type": "code",
      "metadata": {
        "id": "Kb-0dZ5lVRXs",
        "colab_type": "code",
        "colab": {
          "base_uri": "https://localhost:8080/",
          "height": 295
        },
        "outputId": "a0646755-243a-4215-9b0e-c70758f212c2"
      },
      "source": [
        "plt.plot(np.squeeze(all_cost))\n",
        "plt.ylabel('cost')\n",
        "plt.xlabel('iterations (per tens)')\n",
        "plt.title(\"Learning rate =\" + str(learning_rate))\n",
        "plt.show()"
      ],
      "execution_count": 132,
      "outputs": [
        {
          "output_type": "display_data",
          "data": {
            "image/png": "[encoded data removed]",
            "text/plain": [
              "<Figure size 432x288 with 1 Axes>"
            ]
          },
          "metadata": {
            "tags": []
          }
        }
      ]
    },
    {
      "cell_type": "code",
      "metadata": {
        "id": "PZeSxN2rjT5W",
        "colab_type": "code",
        "colab": {
          "base_uri": "https://localhost:8080/",
          "height": 34
        },
        "outputId": "9ebb7c03-0f17-409d-95bb-b6096ba54d0c"
      },
      "source": [
        "xx = tf.constant([[0., 1., 0., 0., 0.]], dtype = tf.float32)\n",
        "print(np.sum(np.array(xx)==0.0))"
      ],
      "execution_count": 56,
      "outputs": [
        {
          "output_type": "stream",
          "text": [
            "4\n"
          ],
          "name": "stdout"
        }
      ]
    },
    {
      "cell_type": "code",
      "metadata": {
        "id": "kJ5XpEIQjjym",
        "colab_type": "code",
        "colab": {}
      },
      "source": [
        ""
      ],
      "execution_count": 0,
      "outputs": []
    }
  ]
}