{
  "nbformat": 4,
  "nbformat_minor": 0,
  "metadata": {
    "colab": {
      "name": "Linear Regression Raw code with TensorFlow.ipynb",
      "version": "0.3.2",
      "provenance": [],
      "collapsed_sections": [],
      "include_colab_link": true
    },
    "kernelspec": {
      "name": "python3",
      "display_name": "Python 3"
    },
    "accelerator": "GPU"
  },
  "cells": [
    {
      "cell_type": "markdown",
      "metadata": {
        "id": "view-in-github",
        "colab_type": "text"
      },
      "source": [
        "<a href=\"https://colab.research.google.com/github/durbin-164/TensorFlow-Basic-Work/blob/master/Linear_Regression_Raw_code_with_TensorFlow.ipynb\" target=\"_parent\"><img src=\"https://colab.research.google.com/assets/colab-badge.svg\" alt=\"Open In Colab\"/></a>"
      ]
    },
    {
      "cell_type": "code",
      "metadata": {
        "id": "LceWnW6DJqka",
        "colab_type": "code",
        "outputId": "8fa5a03f-ca7c-491e-9258-ab0017ee5013",
        "colab": {
          "base_uri": "https://localhost:8080/",
          "height": 34
        }
      },
      "source": [
        "#!pip install tensorflow==2.0.0-beta1\n",
        "import tensorflow as tf\n",
        "import numpy as np\n",
        "print(tf.__version__)"
      ],
      "execution_count": 0,
      "outputs": [
        {
          "output_type": "stream",
          "text": [
            "2.0.0-beta1\n"
          ],
          "name": "stdout"
        }
      ]
    },
    {
      "cell_type": "code",
      "metadata": {
        "id": "SyPrsdyeLoYv",
        "colab_type": "code",
        "colab": {}
      },
      "source": [
        "import matplotlib.pyplot as plt\n",
        "from sklearn.utils import shuffle"
      ],
      "execution_count": 0,
      "outputs": []
    },
    {
      "cell_type": "code",
      "metadata": {
        "id": "goXM9IkgJ89d",
        "colab_type": "code",
        "colab": {}
      },
      "source": [
        "def makeDataset(ran,numberOfData):\n",
        "  \n",
        "  x = tf.linspace(0.0,ran,numberOfData)\n",
        "  \n",
        "  x = tf.random.shuffle(x)\n",
        "  \n",
        "  y = x*1.8+32.0\n",
        "  \n",
        "  return tf.reshape(x,[x.shape[0],1]),tf.reshape(y,[y.shape[0],1])\n",
        "  \n",
        "  "
      ],
      "execution_count": 0,
      "outputs": []
    },
    {
      "cell_type": "code",
      "metadata": {
        "id": "6wynI8-eNlrx",
        "colab_type": "code",
        "colab": {}
      },
      "source": [
        "def makeDataset2():\n",
        "  # generate random data-set\n",
        "  np.random.seed(0)\n",
        "  x = np.random.rand(100, 1)\n",
        "  y = 2 + 3 * x + np.random.rand(100, 1)\n",
        "  \n",
        "  x = tf.cast(x, dtype = tf.float32)\n",
        "  y = tf.cast(y, dtype = tf.float32)\n",
        "  \n",
        "  return tf.reshape(x, [x.shape[0],1]), tf.reshape(y,[y.shape[0],1])\n"
      ],
      "execution_count": 0,
      "outputs": []
    },
    {
      "cell_type": "code",
      "metadata": {
        "id": "yyh9TDeHLb7a",
        "colab_type": "code",
        "outputId": "ad7b99ad-ed13-4e10-fc5f-75107c32516f",
        "colab": {
          "base_uri": "https://localhost:8080/",
          "height": 336
        }
      },
      "source": [
        "#X,y = makeDataset(100.0,tf.constant(50))\n",
        "X,y = makeDataset2()\n",
        "\n",
        "print(X.shape)\n",
        "print(y.shape)\n",
        "\n",
        "print(X[1])\n",
        "\n",
        "plt.scatter(X,y)\n"
      ],
      "execution_count": 0,
      "outputs": [
        {
          "output_type": "stream",
          "text": [
            "(100, 1)\n",
            "(100, 1)\n",
            "tf.Tensor([0.71518934], shape=(1,), dtype=float32)\n"
          ],
          "name": "stdout"
        },
        {
          "output_type": "execute_result",
          "data": {
            "text/plain": [
              "<matplotlib.collections.PathCollection at 0x7f9ddfd4be10>"
            ]
          },
          "metadata": {
            "tags": []
          },
          "execution_count": 15
        },
        {
          "output_type": "display_data",
          "data": {
            "image/png": "[encoded data removed]",
            "text/plain": [
              "<Figure size 432x288 with 1 Axes>"
            ]
          },
          "metadata": {
            "tags": []
          }
        }
      ]
    },
    {
      "cell_type": "code",
      "metadata": {
        "id": "9_2cQ789MefD",
        "colab_type": "code",
        "colab": {}
      },
      "source": [
        "def dataAgmentation(X):\n",
        "  \n",
        "  tmp = tf.cast(tf.fill(X.shape,1),dtype=tf.float32)\n",
        "  \n",
        "  return tf.concat([tmp,X], axis = 1)\n",
        "  \n",
        "  "
      ],
      "execution_count": 0,
      "outputs": []
    },
    {
      "cell_type": "code",
      "metadata": {
        "id": "ylyGlXy3Pat9",
        "colab_type": "code",
        "outputId": "417b265c-e5ca-44c0-9292-ac43449f6f91",
        "colab": {
          "base_uri": "https://localhost:8080/",
          "height": 118
        }
      },
      "source": [
        "\n",
        "agmentX= dataAgmentation(X)\n",
        "print(agmentX[:5,:])"
      ],
      "execution_count": 0,
      "outputs": [
        {
          "output_type": "stream",
          "text": [
            "tf.Tensor(\n",
            "[[  1.        0.     ]\n",
            " [  1.      204.08163]\n",
            " [  1.      408.16327]\n",
            " [  1.      612.2449 ]\n",
            " [  1.      816.32654]], shape=(5, 2), dtype=float32)\n"
          ],
          "name": "stdout"
        }
      ]
    },
    {
      "cell_type": "code",
      "metadata": {
        "id": "UpmJeQ5HP2yK",
        "colab_type": "code",
        "colab": {}
      },
      "source": [
        "def predict(X,w):\n",
        "  \n",
        "  return tf.matmul(X,w)"
      ],
      "execution_count": 0,
      "outputs": []
    },
    {
      "cell_type": "code",
      "metadata": {
        "id": "p5cQ-GYRPfXu",
        "colab_type": "code",
        "outputId": "d178e190-aa71-4894-abda-a7b19c74690e",
        "colab": {
          "base_uri": "https://localhost:8080/",
          "height": 118
        }
      },
      "source": [
        "X_t = tf.constant([[1,10],[1,20],[1,30]], dtype = tf.float32)\n",
        "w_t = tf.constant([[1],[10]] , dtype = tf.float32)\n",
        "print(X_t.shape)\n",
        "print(w_t.shape)\n",
        "print(predict(X_t,w_t))"
      ],
      "execution_count": 0,
      "outputs": [
        {
          "output_type": "stream",
          "text": [
            "(3, 2)\n",
            "(2, 1)\n",
            "tf.Tensor(\n",
            "[[101.]\n",
            " [201.]\n",
            " [301.]], shape=(3, 1), dtype=float32)\n"
          ],
          "name": "stdout"
        }
      ]
    },
    {
      "cell_type": "code",
      "metadata": {
        "id": "XvQ1jgXUVtcR",
        "colab_type": "code",
        "colab": {}
      },
      "source": [
        "def cost(y,y_pred):\n",
        "  c = tf.square(y-y_pred)\n",
        "  c = tf.reduce_sum(c)\n",
        "  \n",
        "  return (1/(2*y.shape[0]))*c"
      ],
      "execution_count": 0,
      "outputs": []
    },
    {
      "cell_type": "code",
      "metadata": {
        "id": "IPaf_75YYNUn",
        "colab_type": "code",
        "outputId": "7637c7f0-fcaa-4d44-fdb8-f7219db3a0f9",
        "colab": {
          "base_uri": "https://localhost:8080/",
          "height": 34
        }
      },
      "source": [
        "y_t = tf.constant([[10],[20],[30]], dtype = tf.float32)\n",
        "y_pred_t = tf.constant([[10],[10],[30]], dtype = tf.float32)\n",
        "\n",
        "print(cost(y_t,y_pred_t))"
      ],
      "execution_count": 0,
      "outputs": [
        {
          "output_type": "stream",
          "text": [
            "tf.Tensor(16.666668, shape=(), dtype=float32)\n"
          ],
          "name": "stdout"
        }
      ]
    },
    {
      "cell_type": "code",
      "metadata": {
        "id": "yEfRDmD_Ysk7",
        "colab_type": "code",
        "colab": {}
      },
      "source": [
        "def del_cost(X,y,y_pred):\n",
        "  \n",
        "  c = tf.matmul(tf.transpose(X),(y_pred-y))\n",
        "  \n",
        "  c = (1/y.shape[0])*c\n",
        "  \n",
        "  return c\n",
        "  \n",
        "  "
      ],
      "execution_count": 0,
      "outputs": []
    },
    {
      "cell_type": "code",
      "metadata": {
        "id": "aD103dhreErf",
        "colab_type": "code",
        "outputId": "bba0121a-6f97-456b-9a7d-e96ee123ccb9",
        "colab": {
          "base_uri": "https://localhost:8080/",
          "height": 67
        }
      },
      "source": [
        "X_t = tf.constant([[1,10],[1,20],[1,30]], dtype = tf.float32)\n",
        "y_t = tf.constant([[8],[10],[14]], dtype = tf.float32)\n",
        "y_pred_t = tf.constant([[10],[6],[20]], dtype = tf.float32)\n",
        "\n",
        "print(del_cost(X_t, y_t,y_pred_t))"
      ],
      "execution_count": 0,
      "outputs": [
        {
          "output_type": "stream",
          "text": [
            "tf.Tensor(\n",
            "[[ 1.3333334]\n",
            " [40.       ]], shape=(2, 1), dtype=float32)\n"
          ],
          "name": "stdout"
        }
      ]
    },
    {
      "cell_type": "code",
      "metadata": {
        "id": "6cEWCY9Le8UN",
        "colab_type": "code",
        "colab": {}
      },
      "source": [
        "def train(X,y, w, alpha=0.001, iteration=50):\n",
        "  \n",
        "  all_cost = []\n",
        "  \n",
        "  \n",
        "  \n",
        "  for i in range(iteration):\n",
        "    \n",
        "    y_pred = predict(X,w)\n",
        "    c = cost(y,y_pred)\n",
        "    all_cost.append(c)\n",
        "    \n",
        "    #Apply Gradinet Desent.\n",
        "    del_J = del_cost(X,y,y_pred)\n",
        "    \n",
        "    #print(tf.scalar_mul(alpha,del_J))\n",
        "    w = w - (tf.scalar_mul(alpha,del_J))\n",
        "    #weight update done.\n",
        "    if(i%1000==0):\n",
        "      print('Iteration = {} :: Cost = {}'.format(i,c))\n",
        "      #print(w)\n",
        "      plt.scatter(X[:,1],y_pred)\n",
        "      \n",
        "  \n",
        "  return w, all_cost\n",
        "    \n",
        "    "
      ],
      "execution_count": 0,
      "outputs": []
    },
    {
      "cell_type": "code",
      "metadata": {
        "id": "lsE3QluPjlN6",
        "colab_type": "code",
        "outputId": "42cdf87f-4ab3-4fc2-ee89-9d7fcb08a185",
        "colab": {
          "base_uri": "https://localhost:8080/",
          "height": 34
        }
      },
      "source": [
        "X_t = tf.constant([[1,10],[1,20],[1,30]], dtype = tf.float32)\n",
        "y_t = tf.constant([[8],[10],[14]], dtype = tf.float32)\n",
        "w_t = tf.constant([[0],[0]] , dtype = tf.float32)\n",
        "\n",
        "\n",
        "w, all_cost = train(X_t, y_t,w_t,0.001, 10)\n"
      ],
      "execution_count": 0,
      "outputs": [
        {
          "output_type": "stream",
          "text": [
            "Iteration = 0 :: Cost = 60.0\n"
          ],
          "name": "stdout"
        }
      ]
    },
    {
      "cell_type": "code",
      "metadata": {
        "id": "sS39AGSilBvB",
        "colab_type": "code",
        "colab": {}
      },
      "source": [
        "def test(X_test, y_test,w):\n",
        "  \n",
        "  y_pred = predict(X_test, w)\n",
        "  \n",
        "  for i in range(min(y_test.shape[0],10)):\n",
        "    print('X : {} ->Predict: {} -> Original : {}'.format(X_test[i],y_pred[i],y_test[i]))\n",
        "    \n",
        "  \n",
        "  "
      ],
      "execution_count": 0,
      "outputs": []
    },
    {
      "cell_type": "code",
      "metadata": {
        "id": "CR_ZLnPqj4BY",
        "colab_type": "code",
        "colab": {}
      },
      "source": [
        "def main():\n",
        "  \n",
        "  #X,y = makeDataset(1000.00,1000)\n",
        "  X,y = makeDataset2()\n",
        "  \n",
        "  #X,y = tf.random.shuffle([X,y],seed=100)\n",
        "  \n",
        "  plt.scatter(X,y)\n",
        "\n",
        "  \n",
        "  X = dataAgmentation(X)\n",
        "  \n",
        "  pk = int(.9*X.shape[0])\n",
        "  \n",
        "  print(pk)\n",
        "  \n",
        "  \n",
        "  X_train = X[:pk,:]\n",
        "  X_test = X[pk:,:]\n",
        "  \n",
        "  y_train = y[:pk,:]\n",
        "  y_test = y[pk:,:]\n",
        "  \n",
        "  print(X_train.shape)\n",
        "  print(X_test.shape)\n",
        "  \n",
        "  \n",
        "  print(X_train[1],y_train[1])\n",
        "  \n",
        "  #w = tf.random.uniform([2,1])\n",
        "  w = tf.constant([[0],[0]] , dtype = tf.float32)\n",
        "  \n",
        "  print(w)\n",
        "  \n",
        "  w, all_cost = train(X_train,y_train,w,0.01, 10000)\n",
        "  #test(X_test,y_test, w)\n",
        "  pred = predict(X,w)\n",
        "  pred = tf.reshape(pred, [pred.shape[0],1])\n",
        "  print(pred.shape)\n",
        "  print(X.shape)\n",
        "  plt.scatter(X[:,1], pred )\n",
        "  plt.show()\n",
        "  \n",
        "  return w , X_test, y_test, all_cost\n",
        "  \n",
        "  \n",
        "  \n",
        "  \n",
        "  \n",
        "  "
      ],
      "execution_count": 0,
      "outputs": []
    },
    {
      "cell_type": "code",
      "metadata": {
        "id": "si0E8PedmeIB",
        "colab_type": "code",
        "outputId": "aa0bea8b-1f5a-4671-e51b-ed336d1589f3",
        "colab": {
          "base_uri": "https://localhost:8080/",
          "height": 638
        }
      },
      "source": [
        "w, X_test, y_test, all_cost = main()\n",
        "\n",
        "print(w)"
      ],
      "execution_count": 0,
      "outputs": [
        {
          "output_type": "stream",
          "text": [
            "90\n",
            "(90, 2)\n",
            "(10, 2)\n",
            "tf.Tensor([1.         0.71518934], shape=(2,), dtype=float32) tf.Tensor([4.415576], shape=(1,), dtype=float32)\n",
            "tf.Tensor(\n",
            "[[0.]\n",
            " [0.]], shape=(2, 1), dtype=float32)\n",
            "Iteration = 0 :: Cost = 8.361091613769531\n",
            "Iteration = 1000 :: Cost = 0.05460027605295181\n",
            "Iteration = 2000 :: Cost = 0.04201754182577133\n",
            "Iteration = 3000 :: Cost = 0.03863083943724632\n",
            "Iteration = 4000 :: Cost = 0.03771929442882538\n",
            "Iteration = 5000 :: Cost = 0.03747393935918808\n",
            "Iteration = 6000 :: Cost = 0.03740790858864784\n",
            "Iteration = 7000 :: Cost = 0.03739013895392418\n",
            "Iteration = 8000 :: Cost = 0.037385351955890656\n",
            "Iteration = 9000 :: Cost = 0.037384066730737686\n",
            "(100, 1)\n",
            "(100, 2)\n"
          ],
          "name": "stdout"
        },
        {
          "output_type": "display_data",
          "data": {
            "image/png": "[encoded data removed]",
            "text/plain": [
              "<Figure size 432x288 with 1 Axes>"
            ]
          },
          "metadata": {
            "tags": []
          }
        },
        {
          "output_type": "stream",
          "text": [
            "tf.Tensor(\n",
            "[[2.58687 ]\n",
            " [2.909318]], shape=(2, 1), dtype=float32)\n"
          ],
          "name": "stdout"
        }
      ]
    },
    {
      "cell_type": "code",
      "metadata": {
        "id": "d-MSyAxc1xkm",
        "colab_type": "code",
        "outputId": "979998fc-e2ef-4878-8cd0-ca6f2395fc53",
        "colab": {
          "base_uri": "https://localhost:8080/",
          "height": 286
        }
      },
      "source": [
        "plt.plot(range(len(all_cost)),all_cost)"
      ],
      "execution_count": 0,
      "outputs": [
        {
          "output_type": "execute_result",
          "data": {
            "text/plain": [
              "[<matplotlib.lines.Line2D at 0x7f9ddfb0d4a8>]"
            ]
          },
          "metadata": {
            "tags": []
          },
          "execution_count": 32
        },
        {
          "output_type": "display_data",
          "data": {
            "image/png": "[encoded data removed]",
            "text/plain": [
              "<Figure size 432x288 with 1 Axes>"
            ]
          },
          "metadata": {
            "tags": []
          }
        }
      ]
    },
    {
      "cell_type": "code",
      "metadata": {
        "id": "YyTEVseJmfQ3",
        "colab_type": "code",
        "outputId": "c39aa913-8e11-489a-c6cd-c7c75bdfb579",
        "colab": {
          "base_uri": "https://localhost:8080/",
          "height": 185
        }
      },
      "source": [
        "test(X_test,y_test, w)"
      ],
      "execution_count": 0,
      "outputs": [
        {
          "output_type": "stream",
          "text": [
            "X : [1.         0.31856894] ->Predict: [3.5136883] -> Original : [3.3539279]\n",
            "X : [1.        0.6674104] ->Predict: [4.5285788] -> Original : [4.2120748]\n",
            "X : [1.         0.13179787] ->Predict: [2.9703119] -> Original : [2.5815866]\n",
            "X : [1.        0.7163272] ->Predict: [4.6708937] -> Original : [5.093354]\n",
            "X : [1.        0.2894061] ->Predict: [3.4288442] -> Original : [3.607769]\n",
            "X : [1.         0.18319136] ->Predict: [3.1198318] -> Original : [3.0400329]\n",
            "X : [1.        0.5865129] ->Predict: [4.2932224] -> Original : [3.9869535]\n",
            "X : [1.         0.02010755] ->Predict: [2.6453693] -> Original : [2.3146791]\n",
            "X : [1.         0.82894003] ->Predict: [4.99852] -> Original : [4.5448494]\n",
            "X : [1.         0.00469548] ->Predict: [2.6005306] -> Original : [2.448503]\n"
          ],
          "name": "stdout"
        }
      ]
    },
    {
      "cell_type": "code",
      "metadata": {
        "id": "1shyAnN-58o3",
        "colab_type": "code",
        "colab": {}
      },
      "source": [
        ""
      ],
      "execution_count": 0,
      "outputs": []
    }
  ]
}