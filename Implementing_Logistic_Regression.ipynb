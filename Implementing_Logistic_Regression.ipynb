{
  "nbformat": 4,
  "nbformat_minor": 0,
  "metadata": {
    "colab": {
      "name": "Implementing Logistic Regression.ipynb",
      "version": "0.3.2",
      "provenance": [],
      "include_colab_link": true
    },
    "kernelspec": {
      "name": "python3",
      "display_name": "Python 3"
    },
    "accelerator": "GPU"
  },
  "cells": [
    {
      "cell_type": "markdown",
      "metadata": {
        "id": "view-in-github",
        "colab_type": "text"
      },
      "source": [
        "<a href=\"https://colab.research.google.com/github/durbin-164/TensorFlow-Basic-Work/blob/master/Implementing_Logistic_Regression.ipynb\" target=\"_parent\"><img src=\"https://colab.research.google.com/assets/colab-badge.svg\" alt=\"Open In Colab\"/></a>"
      ]
    },
    {
      "cell_type": "markdown",
      "metadata": {
        "id": "zKHECam8j8yX",
        "colab_type": "text"
      },
      "source": [
        "Dataset link : https://www.kaggle.com/mohansacharya/graduate-admissions#Admission_Predict_Ver1.1.csv"
      ]
    },
    {
      "cell_type": "code",
      "metadata": {
        "id": "kfzLCYhTNcii",
        "colab_type": "code",
        "outputId": "e42193e6-eecb-4a30-e14a-3d7d07fd7c8e",
        "colab": {
          "base_uri": "https://localhost:8080/",
          "height": 34
        }
      },
      "source": [
        "#!pip install tensorflow==2.0.0-beta1\n",
        "import tensorflow as tf\n",
        "import numpy as np\n",
        "import matplotlib.pyplot as plt\n",
        "import pandas as pd\n",
        "from sklearn import preprocessing\n",
        "print(tf.__version__)"
      ],
      "execution_count": 1,
      "outputs": [
        {
          "output_type": "stream",
          "text": [
            "2.0.0-beta1\n"
          ],
          "name": "stdout"
        }
      ]
    },
    {
      "cell_type": "code",
      "metadata": {
        "id": "eM80wkspOErH",
        "colab_type": "code",
        "colab": {}
      },
      "source": [
        "def sigmoid(z):\n",
        "  \n",
        "  return (1.0/(1.0+tf.exp(-z)))"
      ],
      "execution_count": 0,
      "outputs": []
    },
    {
      "cell_type": "code",
      "metadata": {
        "id": "wwhEdfLHOfyC",
        "colab_type": "code",
        "colab": {}
      },
      "source": [
        "def initialize_parameters(n_x,n_y):\n",
        "  \n",
        "  W = tf.random.normal([n_x,n_y],dtype=tf.float32)\n",
        "  b = tf.zeros([n_y,1],dtype=tf.float32)\n",
        "  \n",
        "  parameters = {\n",
        "      \n",
        "      'W' : W,\n",
        "      'b' : b\n",
        "  }\n",
        "  \n",
        "  return parameters"
      ],
      "execution_count": 0,
      "outputs": []
    },
    {
      "cell_type": "code",
      "metadata": {
        "id": "hPbuqHVHOl20",
        "colab_type": "code",
        "colab": {}
      },
      "source": [
        "def forward_prop(X, parameters):\n",
        "  \n",
        "  W = parameters['W']\n",
        "  b = parameters['b']\n",
        "  \n",
        "  Z = tf.matmul(X,W)+b\n",
        "  \n",
        "  A = sigmoid(Z)\n",
        "  \n",
        "  #A -=0.000001\n",
        "  \n",
        "  return A\n",
        "  \n",
        "  "
      ],
      "execution_count": 0,
      "outputs": []
    },
    {
      "cell_type": "code",
      "metadata": {
        "id": "EbQYJOcCVbji",
        "colab_type": "code",
        "colab": {}
      },
      "source": [
        "def calculate_cost(A, y):\n",
        "  \n",
        "  cost = (-1.0/y.shape[0])*tf.reduce_sum(y*tf.math.log(A)+(1-y)*tf.math.log(1-A))\n",
        "  \n",
        "  return tf.squeeze(cost)"
      ],
      "execution_count": 0,
      "outputs": []
    },
    {
      "cell_type": "code",
      "metadata": {
        "id": "gjIhqtZsS2o4",
        "colab_type": "code",
        "colab": {}
      },
      "source": [
        "# Same log cost function using for exprement and error currection\n",
        "def calculate_cost2(A, y):\n",
        "  \n",
        "  print('____________inside cost___________')\n",
        "  \n",
        "  ll1 = tf.math.log(A)\n",
        "  ll2 = tf.math.log(1-A)\n",
        "  \n",
        "  ss = tf.reduce_sum(y*ll1+(1-y)*ll2)\n",
        "  co = (-1.0/y.shape[0])\n",
        "  print(A[:5])\n",
        "  print(ll1[:5])\n",
        "  print(ll2[:5])\n",
        "  print(ss)\n",
        "  print(co)\n",
        "  \n",
        "  tot = co*ss\n",
        "  \n",
        "  print(tot)\n",
        "  \n",
        "  print('_____out sitde cost________')\n",
        "  \n",
        "  return tot\n",
        "  \n",
        "  #cost = (-1.0/y.shape[0])*tf.reduce_sum(y*tf.math.log(A)+(1-y)*tf.math.log(1-A))\n",
        "  \n",
        "  #return tf.squeeze(cost)"
      ],
      "execution_count": 0,
      "outputs": []
    },
    {
      "cell_type": "code",
      "metadata": {
        "id": "ziLqd24YS2mX",
        "colab_type": "code",
        "colab": {}
      },
      "source": [
        ""
      ],
      "execution_count": 0,
      "outputs": []
    },
    {
      "cell_type": "code",
      "metadata": {
        "id": "plp0oKo2PhR0",
        "colab_type": "code",
        "colab": {}
      },
      "source": [
        "def backward_prop(X,Y,A, parameters, alpha=0.01):\n",
        "  \n",
        "  W = parameters['W']\n",
        "  b = parameters['b']\n",
        "  \n",
        "  m = X.shape[0]\n",
        "  \n",
        "  dz = A-Y\n",
        "  dw = (1.0/m)*tf.matmul(tf.transpose(X),dz)\n",
        "  db = (1.0/m)*tf.reduce_sum(dz)\n",
        "  \n",
        "  W -= alpha*dw\n",
        "  b -= alpha*db\n",
        "  \n",
        "  \n",
        "  new_parameters ={\n",
        "      \n",
        "     'W' : W,\n",
        "     'b' : b\n",
        "  }\n",
        "  \n",
        "  return new_parameters\n",
        "  \n",
        "  \n",
        "  \n",
        "  \n",
        "  "
      ],
      "execution_count": 0,
      "outputs": []
    },
    {
      "cell_type": "code",
      "metadata": {
        "id": "CKkWdgAfTqdl",
        "colab_type": "code",
        "colab": {}
      },
      "source": [
        "def model(X,Y, alpha=.001, iteration=1000):\n",
        "  \n",
        "  n_x = X.shape[1]\n",
        "  n_y = Y.shape[1]\n",
        "  \n",
        "  print(n_x, n_y)\n",
        "  \n",
        "  parameters = initialize_parameters(n_x, n_y)\n",
        "  \n",
        "  all_cost = []\n",
        "  \n",
        "  for i in range(iteration):\n",
        "    \n",
        "    A = forward_prop(X,parameters)\n",
        "    cost = calculate_cost(A,Y)\n",
        "    \n",
        "    parameters = backward_prop(X,Y,A, parameters, alpha)\n",
        "    \n",
        "    all_cost.append(cost)\n",
        "    \n",
        "    if(i%1000==0):\n",
        "      print('Iteration: {} :: Cost: {}'.format(i,cost))\n",
        "      #print(parameters['W'])\n",
        "    \n",
        "    \n",
        "  return parameters, all_cost \n",
        "    "
      ],
      "execution_count": 0,
      "outputs": []
    },
    {
      "cell_type": "code",
      "metadata": {
        "id": "KmaS2h3jX1A9",
        "colab_type": "code",
        "colab": {}
      },
      "source": [
        "def predict(X,parameters):\n",
        "  \n",
        "  A = forward_prop(X,parameters)\n",
        "  \n",
        "  predict = A>=0.5\n",
        "  \n",
        "  return tf.cast(predict,dtype = tf.float32)\n",
        "  "
      ],
      "execution_count": 0,
      "outputs": []
    },
    {
      "cell_type": "code",
      "metadata": {
        "id": "400oVASycJa_",
        "colab_type": "code",
        "colab": {}
      },
      "source": [
        "def get_accuracy(Y,Y_pred):\n",
        "  \n",
        "  accuracy = np.sum(tf.equal(Y,Y_pred))\n",
        "  \n",
        "  accuracy = (100.0/Y.shape[0])*accuracy\n",
        "  \n",
        "  return accuracy"
      ],
      "execution_count": 0,
      "outputs": []
    },
    {
      "cell_type": "code",
      "metadata": {
        "id": "z20ErIFLP8O-",
        "colab_type": "code",
        "colab": {}
      },
      "source": [
        "def makeDataset():\n",
        "  \n",
        "  df = pd.read_csv('/content/drive/My Drive/Colab Notebooks/Dataset/Admission_Predict_Ver1.1.csv')\n",
        "  \n",
        "  df.dropna()\n",
        "  \n",
        "  df2 = df.copy()\n",
        "  df2.drop(df.columns[0], axis=1, inplace=True)\n",
        "  \n",
        "  data = df.values \n",
        "  min_max_scaler = preprocessing.MinMaxScaler()\n",
        "  data = min_max_scaler.fit_transform(data)\n",
        " \n",
        "  \n",
        "  np.random.shuffle(data)\n",
        "  \n",
        "  data[:,-1] = data[:,-1]>=.6\n",
        "  \n",
        "  X = data[:,:-2]\n",
        "  Y = data[:,-1]\n",
        "  X= tf.cast(X,dtype=tf.float32)\n",
        "  Y = tf.reshape(Y, [Y.shape[0],1])\n",
        "  Y = tf.cast(Y, dtype=tf.float32)\n",
        "  \n",
        "  pk = int(0.9*X.shape[0])\n",
        "  \n",
        "  X_train = X[:pk,:]\n",
        "  Y_train = Y[:pk,:]\n",
        "  \n",
        "  X_test = X[pk:,:]\n",
        "  Y_test = Y[pk:,:]\n",
        "  \n",
        "  return X_train, Y_train, X_test, Y_test\n",
        "  "
      ],
      "execution_count": 0,
      "outputs": []
    },
    {
      "cell_type": "code",
      "metadata": {
        "id": "ZZEkRz0SQFjb",
        "colab_type": "code",
        "colab": {
          "base_uri": "https://localhost:8080/",
          "height": 538
        },
        "outputId": "8bc2a309-ae82-4d06-ed37-d040ee4ecd45"
      },
      "source": [
        "X_train, Y_train, X_test, Y_test = makeDataset()\n",
        "n_x = X_train.shape[1]\n",
        "n_y =Y_train.shape[1]\n",
        "  \n",
        "num_of_iteration = 30000\n",
        "learning_rate = 0.01\n",
        "  \n",
        "train_parameters, all_cost = model(X_train,Y_train, learning_rate, num_of_iteration)\n",
        "\n"
      ],
      "execution_count": 37,
      "outputs": [
        {
          "output_type": "stream",
          "text": [
            "7 1\n",
            "Iteration: 0 :: Cost: 0.8503660559654236\n",
            "Iteration: 1000 :: Cost: 0.6399735808372498\n",
            "Iteration: 2000 :: Cost: 0.5595991611480713\n",
            "Iteration: 3000 :: Cost: 0.5085518956184387\n",
            "Iteration: 4000 :: Cost: 0.4736635386943817\n",
            "Iteration: 5000 :: Cost: 0.44824230670928955\n",
            "Iteration: 6000 :: Cost: 0.42875993251800537\n",
            "Iteration: 7000 :: Cost: 0.41323983669281006\n",
            "Iteration: 8000 :: Cost: 0.40050452947616577\n",
            "Iteration: 9000 :: Cost: 0.3898126780986786\n",
            "Iteration: 10000 :: Cost: 0.3806743323802948\n",
            "Iteration: 11000 :: Cost: 0.3727518916130066\n",
            "Iteration: 12000 :: Cost: 0.36580410599708557\n",
            "Iteration: 13000 :: Cost: 0.3596535325050354\n",
            "Iteration: 14000 :: Cost: 0.35416552424430847\n",
            "Iteration: 15000 :: Cost: 0.34923604130744934\n",
            "Iteration: 16000 :: Cost: 0.3447830379009247\n",
            "Iteration: 17000 :: Cost: 0.34074047207832336\n",
            "Iteration: 18000 :: Cost: 0.33705443143844604\n",
            "Iteration: 19000 :: Cost: 0.33368054032325745\n",
            "Iteration: 20000 :: Cost: 0.3305816650390625\n",
            "Iteration: 21000 :: Cost: 0.32772648334503174\n",
            "Iteration: 22000 :: Cost: 0.3250885009765625\n",
            "Iteration: 23000 :: Cost: 0.3226446509361267\n",
            "Iteration: 24000 :: Cost: 0.32037538290023804\n",
            "Iteration: 25000 :: Cost: 0.31826356053352356\n",
            "Iteration: 26000 :: Cost: 0.3162940740585327\n",
            "Iteration: 27000 :: Cost: 0.3144541084766388\n",
            "Iteration: 28000 :: Cost: 0.3127317428588867\n",
            "Iteration: 29000 :: Cost: 0.3111168444156647\n"
          ],
          "name": "stdout"
        }
      ]
    },
    {
      "cell_type": "code",
      "metadata": {
        "id": "PaQEqoficFCg",
        "colab_type": "code",
        "colab": {
          "base_uri": "https://localhost:8080/",
          "height": 50
        },
        "outputId": "289016bf-fba1-4dde-d52a-0030b9afa188"
      },
      "source": [
        "Y_pred = predict(X_train, train_parameters)\n",
        "print('Train Accuracy: {}'.format(get_accuracy(Y_train,Y_pred)))\n",
        "\n",
        "Y_pred = predict(X_test, train_parameters)\n",
        "print('Test Accuracy : {}'.format(get_accuracy(Y_test,Y_pred)))\n",
        "\n"
      ],
      "execution_count": 38,
      "outputs": [
        {
          "output_type": "stream",
          "text": [
            "Train Accuracy: 88.0\n",
            "Test Accuracy : 82.0\n"
          ],
          "name": "stdout"
        }
      ]
    },
    {
      "cell_type": "code",
      "metadata": {
        "id": "1yePXPBjuT_d",
        "colab_type": "code",
        "colab": {}
      },
      "source": [
        "#this tis for Xor dataset\n",
        "def main():\n",
        "  \n",
        "  \n",
        "  X = np.array([[0,0],[0,1],[1,0],[1,1]], dtype = np.float32)\n",
        "  Y = np.array([[0],[1],[1],[0]])\n",
        "  \n",
        "  print(X.shape)\n",
        "  print(Y.shape)\n",
        "  \n",
        "  n_x = X.shape[1]\n",
        "  n_y =Y.shape[1]\n",
        "  \n",
        "  num_of_iteration = 1000\n",
        "  learning_rate = 0.3\n",
        "  \n",
        "  train_parameters, all_cost = model(X,Y, learning_rate, num_of_iteration)\n",
        "  \n",
        "  X_test = np.array([[1,1],[0,1]],dtype=np.float32)\n",
        "  \n",
        "  \n",
        "  Y_predict = predict(X, train_parameters)\n",
        "  \n",
        "  for i in range(len(X)):\n",
        "    print('Data : {} :: Prediction : {}'.format(X[i],Y_predict[i]))"
      ],
      "execution_count": 0,
      "outputs": []
    },
    {
      "cell_type": "code",
      "metadata": {
        "id": "eivTtGW5ubvZ",
        "colab_type": "code",
        "outputId": "48b4d1f8-0afc-4b38-fdda-1cc686dd3c8e",
        "colab": {
          "base_uri": "https://localhost:8080/",
          "height": 302
        }
      },
      "source": [
        "main()"
      ],
      "execution_count": 0,
      "outputs": [
        {
          "output_type": "stream",
          "text": [
            "(4, 2)\n",
            "(4, 1)\n",
            "2 1\n",
            "Iteration: 0 :: Cost: 0.7841987013816833\n",
            "Iteration: 100 :: Cost: 0.6943139433860779\n",
            "Iteration: 200 :: Cost: 0.6932536363601685\n",
            "Iteration: 300 :: Cost: 0.6931570768356323\n",
            "Iteration: 400 :: Cost: 0.693148136138916\n",
            "Iteration: 500 :: Cost: 0.6931472420692444\n",
            "Iteration: 600 :: Cost: 0.6931472420692444\n",
            "Iteration: 700 :: Cost: 0.6931471824645996\n",
            "Iteration: 800 :: Cost: 0.6931471824645996\n",
            "Iteration: 900 :: Cost: 0.6931471824645996\n",
            "Data : [0. 0.] :: Prediction : [False]\n",
            "Data : [0. 1.] :: Prediction : [False]\n",
            "Data : [1. 0.] :: Prediction : [False]\n",
            "Data : [1. 1.] :: Prediction : [ True]\n"
          ],
          "name": "stdout"
        }
      ]
    },
    {
      "cell_type": "code",
      "metadata": {
        "id": "5QuIdIni47U4",
        "colab_type": "code",
        "colab": {}
      },
      "source": [
        "#this dataset from kaggle dataset \n",
        "#link: https://www.kaggle.com/mohansacharya/graduate-admissions#Admission_Predict_Ver1.1.csv\n",
        "data = pd.read_csv('/content/drive/My Drive/Colab Notebooks/Dataset/Admission_Predict_Ver1.1.csv')"
      ],
      "execution_count": 0,
      "outputs": []
    },
    {
      "cell_type": "code",
      "metadata": {
        "id": "q-jyek765dsm",
        "colab_type": "code",
        "outputId": "b02dc138-159d-421d-941e-2448f66143a8",
        "colab": {
          "base_uri": "https://localhost:8080/",
          "height": 195
        }
      },
      "source": [
        "data.head()"
      ],
      "execution_count": 17,
      "outputs": [
        {
          "output_type": "execute_result",
          "data": {
            "text/html": [
              "<div>\n",
              "<style scoped>\n",
              "    .dataframe tbody tr th:only-of-type {\n",
              "        vertical-align: middle;\n",
              "    }\n",
              "\n",
              "    .dataframe tbody tr th {\n",
              "        vertical-align: top;\n",
              "    }\n",
              "\n",
              "    .dataframe thead th {\n",
              "        text-align: right;\n",
              "    }\n",
              "</style>\n",
              "<table border=\"1\" class=\"dataframe\">\n",
              "  <thead>\n",
              "    <tr style=\"text-align: right;\">\n",
              "      <th></th>\n",
              "      <th>Serial No.</th>\n",
              "      <th>GRE Score</th>\n",
              "      <th>TOEFL Score</th>\n",
              "      <th>University Rating</th>\n",
              "      <th>SOP</th>\n",
              "      <th>LOR</th>\n",
              "      <th>CGPA</th>\n",
              "      <th>Research</th>\n",
              "      <th>Chance of Admit</th>\n",
              "    </tr>\n",
              "  </thead>\n",
              "  <tbody>\n",
              "    <tr>\n",
              "      <th>0</th>\n",
              "      <td>1</td>\n",
              "      <td>337</td>\n",
              "      <td>118</td>\n",
              "      <td>4</td>\n",
              "      <td>4.5</td>\n",
              "      <td>4.5</td>\n",
              "      <td>9.65</td>\n",
              "      <td>1</td>\n",
              "      <td>0.92</td>\n",
              "    </tr>\n",
              "    <tr>\n",
              "      <th>1</th>\n",
              "      <td>2</td>\n",
              "      <td>324</td>\n",
              "      <td>107</td>\n",
              "      <td>4</td>\n",
              "      <td>4.0</td>\n",
              "      <td>4.5</td>\n",
              "      <td>8.87</td>\n",
              "      <td>1</td>\n",
              "      <td>0.76</td>\n",
              "    </tr>\n",
              "    <tr>\n",
              "      <th>2</th>\n",
              "      <td>3</td>\n",
              "      <td>316</td>\n",
              "      <td>104</td>\n",
              "      <td>3</td>\n",
              "      <td>3.0</td>\n",
              "      <td>3.5</td>\n",
              "      <td>8.00</td>\n",
              "      <td>1</td>\n",
              "      <td>0.72</td>\n",
              "    </tr>\n",
              "    <tr>\n",
              "      <th>3</th>\n",
              "      <td>4</td>\n",
              "      <td>322</td>\n",
              "      <td>110</td>\n",
              "      <td>3</td>\n",
              "      <td>3.5</td>\n",
              "      <td>2.5</td>\n",
              "      <td>8.67</td>\n",
              "      <td>1</td>\n",
              "      <td>0.80</td>\n",
              "    </tr>\n",
              "    <tr>\n",
              "      <th>4</th>\n",
              "      <td>5</td>\n",
              "      <td>314</td>\n",
              "      <td>103</td>\n",
              "      <td>2</td>\n",
              "      <td>2.0</td>\n",
              "      <td>3.0</td>\n",
              "      <td>8.21</td>\n",
              "      <td>0</td>\n",
              "      <td>0.65</td>\n",
              "    </tr>\n",
              "  </tbody>\n",
              "</table>\n",
              "</div>"
            ],
            "text/plain": [
              "   Serial No.  GRE Score  TOEFL Score  ...  CGPA  Research  Chance of Admit \n",
              "0           1        337          118  ...  9.65         1              0.92\n",
              "1           2        324          107  ...  8.87         1              0.76\n",
              "2           3        316          104  ...  8.00         1              0.72\n",
              "3           4        322          110  ...  8.67         1              0.80\n",
              "4           5        314          103  ...  8.21         0              0.65\n",
              "\n",
              "[5 rows x 9 columns]"
            ]
          },
          "metadata": {
            "tags": []
          },
          "execution_count": 17
        }
      ]
    },
    {
      "cell_type": "code",
      "metadata": {
        "id": "3zrfwDEe5hf8",
        "colab_type": "code",
        "outputId": "fc6f5d86-46e3-4cad-b4c5-c4ca2098b48f",
        "colab": {
          "base_uri": "https://localhost:8080/",
          "height": 67
        }
      },
      "source": [
        "data.columns"
      ],
      "execution_count": 85,
      "outputs": [
        {
          "output_type": "execute_result",
          "data": {
            "text/plain": [
              "Index(['Serial No.', 'GRE Score', 'TOEFL Score', 'University Rating', 'SOP',\n",
              "       'LOR ', 'CGPA', 'Research', 'Chance of Admit '],\n",
              "      dtype='object')"
            ]
          },
          "metadata": {
            "tags": []
          },
          "execution_count": 85
        }
      ]
    }
  ]
}