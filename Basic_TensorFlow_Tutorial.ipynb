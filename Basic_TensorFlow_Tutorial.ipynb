{
  "nbformat": 4,
  "nbformat_minor": 0,
  "metadata": {
    "colab": {
      "name": "Basic TensorFlow Tutorial.ipynb",
      "version": "0.3.2",
      "provenance": [],
      "include_colab_link": true
    },
    "kernelspec": {
      "name": "python3",
      "display_name": "Python 3"
    },
    "accelerator": "GPU"
  },
  "cells": [
    {
      "cell_type": "markdown",
      "metadata": {
        "id": "view-in-github",
        "colab_type": "text"
      },
      "source": [
        "<a href=\"https://colab.research.google.com/github/durbin-164/TensorFlow-Basic-Work/blob/master/Basic_TensorFlow_Tutorial.ipynb\" target=\"_parent\"><img src=\"https://colab.research.google.com/assets/colab-badge.svg\" alt=\"Open In Colab\"/></a>"
      ]
    },
    {
      "cell_type": "markdown",
      "metadata": {
        "id": "7kqAYEoLMvIh",
        "colab_type": "text"
      },
      "source": [
        "Read carefully: \n",
        "\n",
        "https://www.tensorflow.org/guide/tensors\n",
        "\n",
        "https://www.tensorflow.org/versions/r2.0/api_docs/python"
      ]
    },
    {
      "cell_type": "code",
      "metadata": {
        "id": "xeGucFH9LXxI",
        "colab_type": "code",
        "outputId": "72fcb819-e6d8-4321-fbc8-c0af43182e41",
        "colab": {
          "base_uri": "https://localhost:8080/",
          "height": 34
        }
      },
      "source": [
        "import tensorflow as tf\n",
        "import numpy as np\n",
        "print(tf.__version__)"
      ],
      "execution_count": 1,
      "outputs": [
        {
          "output_type": "stream",
          "text": [
            "2.0.0-beta1\n"
          ],
          "name": "stdout"
        }
      ]
    },
    {
      "cell_type": "code",
      "metadata": {
        "id": "wl4Vw54zLpZT",
        "colab_type": "code",
        "colab": {}
      },
      "source": [
        "!pip install tensorflow==2.0.0-beta1"
      ],
      "execution_count": 0,
      "outputs": []
    },
    {
      "cell_type": "code",
      "metadata": {
        "id": "x4yFxmI6P-Ii",
        "colab_type": "code",
        "outputId": "e2219671-8319-42aa-af1b-12aaa59df3a1",
        "colab": {
          "base_uri": "https://localhost:8080/",
          "height": 34
        }
      },
      "source": [
        "#tf.enable_eager_execution()\n",
        "#tf.compat.v1.disable_eager_execution()\n",
        "\n",
        "tf.executing_eagerly()"
      ],
      "execution_count": 0,
      "outputs": [
        {
          "output_type": "execute_result",
          "data": {
            "text/plain": [
              "True"
            ]
          },
          "metadata": {
            "tags": []
          },
          "execution_count": 3
        }
      ]
    },
    {
      "cell_type": "markdown",
      "metadata": {
        "id": "8ItWmfw7MYuT",
        "colab_type": "text"
      },
      "source": [
        "Variables are created by auto type casting or define type casting\n"
      ]
    },
    {
      "cell_type": "code",
      "metadata": {
        "id": "8CHnyPVOLosm",
        "colab_type": "code",
        "outputId": "446a042a-b5ff-409b-9d93-f15bbbfb9a65",
        "colab": {
          "base_uri": "https://localhost:8080/",
          "height": 118
        }
      },
      "source": [
        "a = tf.Variable(10)\n",
        "b = tf.Variable(20, dtype=tf.float64)\n",
        "c = tf.Variable([1,2,3,4,5,6], shape = [3,2])\n",
        "d = tf.Variable('Rasel', dtype=tf.string)\n",
        "\n",
        "a.assign(a-20)\n",
        "a.assign_add(30)\n",
        "\n",
        "print(a)\n",
        "print(b)\n",
        "print(c)\n",
        "print(d)\n",
        "print(c[1])\n",
        "print(c.shape)"
      ],
      "execution_count": 2,
      "outputs": [
        {
          "output_type": "stream",
          "text": [
            "<tf.Variable 'Variable:0' shape=() dtype=int32, numpy=20>\n",
            "<tf.Variable 'Variable:0' shape=() dtype=float64, numpy=20.0>\n",
            "<tf.Variable 'Variable:0' shape=[3, 2] dtype=int32, numpy=array([1, 2, 3, 4, 5, 6], dtype=int32)>\n",
            "<tf.Variable 'Variable:0' shape=() dtype=string, numpy=b'Rasel'>\n",
            "tf.Tensor(2, shape=(), dtype=int32)\n",
            "[3, 2]\n"
          ],
          "name": "stdout"
        }
      ]
    },
    {
      "cell_type": "code",
      "metadata": {
        "id": "U7d0812XL9by",
        "colab_type": "code",
        "outputId": "de60e86e-997a-44b8-962a-b4c96958821f",
        "colab": {
          "base_uri": "https://localhost:8080/",
          "height": 101
        }
      },
      "source": [
        "aa = tf.constant(1)\n",
        "bb = tf.constant([1,2,3])\n",
        "cc = tf.constant([1, 2, 3, 4, 5, 6], shape=[2, 3])\n",
        "print(aa)\n",
        "print(bb)\n",
        "print(cc)"
      ],
      "execution_count": 0,
      "outputs": [
        {
          "output_type": "stream",
          "text": [
            "tf.Tensor(1, shape=(), dtype=int32)\n",
            "tf.Tensor([1 2 3], shape=(3,), dtype=int32)\n",
            "tf.Tensor(\n",
            "[[1 2 3]\n",
            " [4 5 6]], shape=(2, 3), dtype=int32)\n"
          ],
          "name": "stdout"
        }
      ]
    },
    {
      "cell_type": "code",
      "metadata": {
        "id": "C4e9N7PrL-p6",
        "colab_type": "code",
        "outputId": "905e471a-c9fc-450f-e2bd-3fd051876a54",
        "colab": {
          "base_uri": "https://localhost:8080/",
          "height": 84
        }
      },
      "source": [
        "zero = tf.zeros([3,3])\n",
        "print(zero)\n"
      ],
      "execution_count": 0,
      "outputs": [
        {
          "output_type": "stream",
          "text": [
            "tf.Tensor(\n",
            "[[0. 0. 0.]\n",
            " [0. 0. 0.]\n",
            " [0. 0. 0.]], shape=(3, 3), dtype=float32)\n"
          ],
          "name": "stdout"
        }
      ]
    },
    {
      "cell_type": "code",
      "metadata": {
        "id": "S-ttXu2nPotL",
        "colab_type": "code",
        "outputId": "0cd99536-99ac-48ee-a65a-da11b767d23f",
        "colab": {
          "base_uri": "https://localhost:8080/",
          "height": 218
        }
      },
      "source": [
        "one = tf.ones([3,3,2])\n",
        "print(one)"
      ],
      "execution_count": 0,
      "outputs": [
        {
          "output_type": "stream",
          "text": [
            "tf.Tensor(\n",
            "[[[1. 1.]\n",
            "  [1. 1.]\n",
            "  [1. 1.]]\n",
            "\n",
            " [[1. 1.]\n",
            "  [1. 1.]\n",
            "  [1. 1.]]\n",
            "\n",
            " [[1. 1.]\n",
            "  [1. 1.]\n",
            "  [1. 1.]]], shape=(3, 3, 2), dtype=float32)\n"
          ],
          "name": "stdout"
        }
      ]
    },
    {
      "cell_type": "code",
      "metadata": {
        "id": "dXD-cL7fPtSd",
        "colab_type": "code",
        "outputId": "81b96f96-6bae-465d-eeb1-81077dceb142",
        "colab": {
          "base_uri": "https://localhost:8080/",
          "height": 67
        }
      },
      "source": [
        "print(tf.rank(one))\n",
        "print(tf.shape(one))\n",
        "print(one.shape)\n"
      ],
      "execution_count": 0,
      "outputs": [
        {
          "output_type": "stream",
          "text": [
            "tf.Tensor(3, shape=(), dtype=int32)\n",
            "tf.Tensor([3 3 2], shape=(3,), dtype=int32)\n",
            "(3, 3, 2)\n"
          ],
          "name": "stdout"
        }
      ]
    },
    {
      "cell_type": "code",
      "metadata": {
        "id": "8PeLW0oMP87s",
        "colab_type": "code",
        "outputId": "deaa66cd-334e-48a4-f518-71a5279c7886",
        "colab": {
          "base_uri": "https://localhost:8080/",
          "height": 118
        }
      },
      "source": [
        "matx = tf.Variable([[1,2,3],[4,5,6],[7,8,9]])\n",
        "print(matx)\n"
      ],
      "execution_count": 0,
      "outputs": [
        {
          "output_type": "stream",
          "text": [
            "<tf.Variable 'Variable:0' shape=(3, 3) dtype=int32, numpy=\n",
            "array([[1, 2, 3],\n",
            "       [4, 5, 6],\n",
            "       [7, 8, 9]], dtype=int32)>\n",
            "tf.Tensor([2 5 8], shape=(3,), dtype=int32)\n",
            "tf.Tensor([4 5 6], shape=(3,), dtype=int32)\n"
          ],
          "name": "stdout"
        }
      ]
    },
    {
      "cell_type": "code",
      "metadata": {
        "id": "hyrCDUd8Qp8F",
        "colab_type": "code",
        "outputId": "194bce90-1ac7-4014-ea4a-3aca755830ed",
        "colab": {
          "base_uri": "https://localhost:8080/",
          "height": 50
        }
      },
      "source": [
        "print(matx[:,1])\n",
        "print(matx[1,:])"
      ],
      "execution_count": 0,
      "outputs": [
        {
          "output_type": "stream",
          "text": [
            "tf.Tensor([2 5 8], shape=(3,), dtype=int32)\n",
            "tf.Tensor([4 5 6], shape=(3,), dtype=int32)\n"
          ],
          "name": "stdout"
        }
      ]
    },
    {
      "cell_type": "code",
      "metadata": {
        "id": "fUoCvI_XRWjg",
        "colab_type": "code",
        "outputId": "2f346fc4-faa0-4369-9d66-0101026c3963",
        "colab": {
          "base_uri": "https://localhost:8080/",
          "height": 67
        }
      },
      "source": [
        "matx2 = tf.ones([4,5,6])\n",
        "matx21 = tf.reshape(matx2,[4,30])\n",
        "matx22 = tf.reshape(matx2,[4,-1]) # -1 tells reshape to calculate the size of this dimension.\n",
        "\n",
        "print(matx2.shape)\n",
        "print(matx21.shape)\n",
        "print(matx22.shape)"
      ],
      "execution_count": 0,
      "outputs": [
        {
          "output_type": "stream",
          "text": [
            "(4, 5, 6)\n",
            "(4, 30)\n",
            "(4, 30)\n"
          ],
          "name": "stdout"
        }
      ]
    },
    {
      "cell_type": "markdown",
      "metadata": {
        "id": "V1qbzwrsNqBQ",
        "colab_type": "text"
      },
      "source": [
        "It is possible to cast tf.Tensors from one datatype to another using tf.cast"
      ]
    },
    {
      "cell_type": "code",
      "metadata": {
        "id": "oZgpU6oOLQXt",
        "colab_type": "code",
        "outputId": "d6ad2866-6de0-488e-cfd6-f12c82aa528a",
        "colab": {
          "base_uri": "https://localhost:8080/",
          "height": 34
        }
      },
      "source": [
        "float_data = tf.cast(tf.constant([1,2,3]), dtype = tf.float32)\n",
        "print(float_data)"
      ],
      "execution_count": 0,
      "outputs": [
        {
          "output_type": "stream",
          "text": [
            "tf.Tensor([1. 2. 3.], shape=(3,), dtype=float32)\n"
          ],
          "name": "stdout"
        }
      ]
    },
    {
      "cell_type": "code",
      "metadata": {
        "id": "wDEgKMXoNd8R",
        "colab_type": "code",
        "outputId": "c6345928-d400-40f1-baa3-9970f4d38e2c",
        "colab": {
          "base_uri": "https://localhost:8080/",
          "height": 34
        }
      },
      "source": [
        "const = tf.constant([1,2,3])\n",
        "mul = const*const\n",
        "\n",
        "print(mul)"
      ],
      "execution_count": 0,
      "outputs": [
        {
          "output_type": "stream",
          "text": [
            "tf.Tensor([1 4 9], shape=(3,), dtype=int32)\n"
          ],
          "name": "stdout"
        }
      ]
    },
    {
      "cell_type": "markdown",
      "metadata": {
        "id": "XnJEcameVCIT",
        "colab_type": "text"
      },
      "source": [
        "Different math operation\n",
        "\n",
        "https://www.tensorflow.org/versions/r2.0/api_docs/python/tf/math"
      ]
    },
    {
      "cell_type": "code",
      "metadata": {
        "id": "MJ2CbaHLOc24",
        "colab_type": "code",
        "outputId": "01362ec7-477d-4a42-cf7c-2834cd4490fd",
        "colab": {
          "base_uri": "https://localhost:8080/",
          "height": 454
        }
      },
      "source": [
        "a = tf.constant([1,-10,30,-40])\n",
        "b = tf.constant([2, 20, -30,50])\n",
        "print(tf.abs(a))\n",
        "print(tf.add(a,b)) #Returns x + y element-wise.\n",
        "print(tf.add_n([a,b,a])) # Adds all input tensors element-wise.\n",
        "print(tf.argmax(a)) #Returns the index with the largest value across axes of a tensor.\n",
        "print(tf.argmin(a)) #Returns the index with the smallest value across axes of a tensor.\n",
        "print(tf.divide(a,b)) #Computes Python style division of x by y.\n",
        "#print(tf.divide_no_nan(a,b))#Computes an unsafe divide which returns 0 if the y is zero.\n",
        "\n",
        "print(tf.maximum(a,b)) #Returns the max of x and y (i.e. x > y ? x : y) element-wise.\n",
        "print(tf.multiply(a,b)) # Returns x * y element-wise.\n",
        "\n",
        "print(tf.reduce_max(a)) # Computes the maximum of elements across dimensions of a tensor.\n",
        "print(tf.reduce_max([a,b])) # Computes the maximum of elements across dimensions of a tensor.\n",
        "print(tf.reduce_min(a)) # Computes the minimum of elements across dimensions of a tensor.\n",
        "print(tf.reduce_mean(a)) # Computes the mean of elements across dimensions of a tensor.\n",
        "print(tf.reduce_sum(a)) \n",
        "print(tf.reduce_prod(a))\n",
        "print(tf.math.reduce_std(tf.constant([1,4,6,16], dtype=tf.float32))) #dtype must be float\n",
        "\n",
        "\n",
        "print(tf.pow(a,3))\n",
        "print(tf.sqrt(tf.constant([1,4,6,16], dtype=tf.float32))) # dtype = tf.int32 will not work.\n",
        "\n",
        "x = tf.matmul([[1]], [[2, 3]])\n",
        "print(x)\n",
        "\n",
        "x = tf.constant([1, 2, 3, 4, 5, 6], shape=[2, 3])\n",
        "y = tf.constant([7, 8, 9, 10, 11, 12], shape=[3, 2])\n",
        "print(tf.matmul(x, y))\n",
        "\n",
        "x = tf.constant([[1,2],[3,4]])\n",
        "y = tf.constant([[6,7],[8,9]])\n",
        "print(x.shape)\n",
        "print(y.shape)\n",
        "print(tf.matmul(x,y))\n",
        "\n",
        "\n",
        "\n",
        "\n"
      ],
      "execution_count": 0,
      "outputs": [
        {
          "output_type": "stream",
          "text": [
            "tf.Tensor([ 1 10 30 40], shape=(4,), dtype=int32)\n",
            "tf.Tensor([ 3 10  0 10], shape=(4,), dtype=int32)\n",
            "tf.Tensor([  4   0  30 -30], shape=(4,), dtype=int32)\n",
            "tf.Tensor(2, shape=(), dtype=int64)\n",
            "tf.Tensor(3, shape=(), dtype=int64)\n",
            "tf.Tensor([ 0.5 -0.5 -1.  -0.8], shape=(4,), dtype=float64)\n",
            "tf.Tensor([ 2 20 30 50], shape=(4,), dtype=int32)\n",
            "tf.Tensor([    2  -200  -900 -2000], shape=(4,), dtype=int32)\n",
            "tf.Tensor(30, shape=(), dtype=int32)\n",
            "tf.Tensor(50, shape=(), dtype=int32)\n",
            "tf.Tensor(-40, shape=(), dtype=int32)\n",
            "tf.Tensor(-4, shape=(), dtype=int32)\n",
            "tf.Tensor(-19, shape=(), dtype=int32)\n",
            "tf.Tensor(12000, shape=(), dtype=int32)\n",
            "tf.Tensor(5.629165, shape=(), dtype=float32)\n",
            "tf.Tensor([     1  -1000  27000 -64000], shape=(4,), dtype=int32)\n",
            "tf.Tensor([1.        2.        2.4494898 4.       ], shape=(4,), dtype=float32)\n",
            "tf.Tensor([[2 3]], shape=(1, 2), dtype=int32)\n",
            "tf.Tensor(\n",
            "[[ 58  64]\n",
            " [139 154]], shape=(2, 2), dtype=int32)\n",
            "(2, 2)\n",
            "(2, 2)\n",
            "tf.Tensor(\n",
            "[[22 25]\n",
            " [50 57]], shape=(2, 2), dtype=int32)\n"
          ],
          "name": "stdout"
        }
      ]
    },
    {
      "cell_type": "code",
      "metadata": {
        "id": "zz-8AI9rR2rl",
        "colab_type": "code",
        "colab": {}
      },
      "source": [
        ""
      ],
      "execution_count": 0,
      "outputs": []
    }
  ]
}